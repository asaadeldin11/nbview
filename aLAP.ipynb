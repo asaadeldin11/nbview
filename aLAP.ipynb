{
 "cells": [
  {
   "cell_type": "code",
   "execution_count": 741,
   "metadata": {},
   "outputs": [],
   "source": [
    "import random\n",
    "import numpy as np\n",
    "def aLAP(P, maximize=True):\n",
    "    if not maximize:\n",
    "        P=-P\n",
    "    n = P.shape[0]\n",
    "    M = np.zeros((n,n))\n",
    "    U = copy(P)\n",
    "    C = np.zeros((n,n))\n",
    "    #R = np.zeros((n,n))\n",
    "    def try_match(a, b):\n",
    "        nonlocal n, M, U, C, n_init\n",
    "        i, j = np.nonzero(U) \n",
    "        n_init += 1\n",
    "        a_free = (M[a,:] == 0).all()\n",
    "        b_free = (M[b,:] == 0).all()\n",
    "        a_matched = (M[a,:] != 0).any()\n",
    "        b_matched = (M[b,:] != 0).any()\n",
    "        while (M[a,:] == 0).all() and (M[b,:] == 0).all() and \\\n",
    "                (np.count_nonzero(i == a) > 1 or np.count_nonzero(i == b) > 1):\n",
    "            if (M[a,:] == 0).all() and (np.count_nonzero(i == a) > 1):\n",
    "                c_ind = np.nonzero(i == a) #indices of vertices adjacent to a\n",
    "                for c in j[c_ind]: # first vertex not b, assigning to c\n",
    "                    if c != b:\n",
    "                        if U[a,c] > U[a,b]: # checking edge weight\n",
    "                            C[[a,b],[b,a]] = U[[a,b],[b,a]] # moving {a,b} from U to C\n",
    "                            U[[a,b],[b,a]] = 0\n",
    "                            i, j = np.nonzero(U)\n",
    "                            try_match(a, c)\n",
    "                            break\n",
    "                        else:\n",
    "                            C[[a,c],[c,a]] = U[[a,c],[c,a]] # moving {a,c} from U to C\n",
    "                            U[[a,c],[c,a]] = 0\n",
    "                            i, j = np.nonzero(U)\n",
    "                            \n",
    "            if (M[b,:] == 0).all() and (np.count_nonzero(i == b) > 1):\n",
    "                d_ind = np.nonzero(i == b)\n",
    "                for d in j[d_ind]:\n",
    "                    if d != a:\n",
    "                        if U[b,d] > U[a,b]:\n",
    "                            C[[a,b],[b,a]] = U[[a,b],[b,a]] # moving {a,b} from U to C\n",
    "                            U[[a,b],[b,a]] = 0\n",
    "                            try_match(b,d)\n",
    "                            break\n",
    "                        else:\n",
    "                            C[[b,d],[d,b]] = U[[b,d],[d,b]] # moving {a,c} from U to C\n",
    "                            U[[b,d],[d,b]] = 0\n",
    "                            i, j = np.nonzero(U)\n",
    "                            \n",
    "            i, j = np.nonzero(U) #reset i,j\n",
    "        '''\n",
    "        if (M[a,:] != 0).any() and (M[b,:] != 0).any():\n",
    "            C[a,:] = 0\n",
    "            C[:,a] = 0\n",
    "            C[b,:] = 0\n",
    "            C[:,b] = 0\n",
    "            n_init += 1\n",
    "            \n",
    "        elif (M[a,:] != 0).any() and (M[b,:] == 0).all(): #if a is matched, b free\n",
    "            #R[np.nonzero(C_a)] = C_a[np.nonzero(C_a)]\n",
    "            C[a,:] = 0\n",
    "            C[:,a] = 0\n",
    "            ic, jc = np.nonzero(C)\n",
    "            d_ind = np.nonzero(ic == b)\n",
    "            for d in jc[d_ind]:\n",
    "                if (M[d,:] == 0).all():\n",
    "                    U[[b,d],[d,b]] = C[[b,d],[d,b]]\n",
    "                    i, j = np.nonzero(U)\n",
    "        \n",
    "                C[[b,d],[d,b]] = 0\n",
    "                    \n",
    "            n_init += 1\n",
    "        \n",
    "        elif (M[a,:] == 0).all() and (M[b,:] != 0).any(): #if b matched, a free\n",
    "            #R[np.nonzero(C_b)] = C_b[np.nonzero(C_b)]\n",
    "            C[b,:] = 0\n",
    "            C[:,b] = 0\n",
    "            ic, jc = np.nonzero(C)\n",
    "            c_ind = np.nonzero(ic == a)\n",
    "            for c in jc[c_ind]:\n",
    "                if (M[c,:] == 0).all():\n",
    "                    U[[a,c],[c,a]] = C[[a,c],[c,a]]\n",
    "                    i, j = np.nonzero(U)\n",
    "                C[[a,c],[c,a]] = 0\n",
    "            n_init += 1\n",
    "        '''\n",
    "        if (M[a,:] == 0).all() and (M[b,:] == 0).all():\n",
    "            #R[np.nonzero(C_a)] = C_a[np.nonzero(C_a)]\n",
    "            #R[np.nonzero(C_b)] = C_b[np.nonzero(C_b)]\n",
    "            C[[a,b],[b,a]] = 0\n",
    "            \n",
    "            if (np.count_nonzero(i == a) == 1) and (np.count_nonzero(i == b) == 1):\n",
    "                U[[a,b],[b,a]] = 0\n",
    "            i, j = np.nonzero(U) #reset i,j\n",
    "            M[[a,b],[b,a]] = 1\n",
    "                    \n",
    "            \n",
    "    n_init = 0\n",
    "    while (U != 0).any():\n",
    "        i, j = np.nonzero(U)\n",
    "        index = random.randrange(len(i))\n",
    "        #index = 0\n",
    "        a = i[index]\n",
    "        b = j[index]\n",
    "        try_match(a, b)\n",
    "        \n",
    "        \n",
    "    #print(\"time try_match called: \" ,n_init)\n",
    "    return np.nonzero(M)\n",
    "        \n",
    "\n",
    "        \n",
    "        "
   ]
  },
  {
   "cell_type": "code",
   "execution_count": 1479,
   "metadata": {},
   "outputs": [],
   "source": [
    "def aLAP_ali(cost_matrix, maximize =True):\n",
    "    if not maximize:\n",
    "        cost_matrix=-cost_matrix\n",
    "\n",
    "        \n",
    "    n = cost_matrix.shape[0]\n",
    "    M = np.zeros((n,n))\n",
    "    U = cost_matrix.astype(float)\n",
    "\n",
    "    while (~np.isnan(U)).any():\n",
    "        a, b = np.unravel_index(np.nanargmax(U), (n,n))\n",
    "        U[a,:] = np.nan\n",
    "        U[:,b] = np.nan\n",
    "        M[a, b] = 1\n",
    "\n",
    "    \n",
    "    return np.nonzero(M)"
   ]
  },
  {
   "cell_type": "code",
   "execution_count": 287,
   "metadata": {},
   "outputs": [],
   "source": [
    "def aLAP_ali(cost_matrix, maximize =True):\n",
    "    if not maximize:\n",
    "        cost_matrix=-cost_matrix\n",
    "    n = cost_matrix.shape[0]\n",
    "    M = csr_matrix(np.zeros((n,n)))\n",
    "    U = csr_matrix(cost_matrix)\n",
    "    while :\n",
    "        a, b = np.unravel_index(U.argmax(), (n,n))\n",
    "        U[a,:] = 0\n",
    "        U[:,a] = 0\n",
    "        U[b,:] = 0\n",
    "        U[:,b] = 0\n",
    "        U.eliminate_zeros\n",
    "        M[[a,b],[b,a]] = 1\n",
    "        \n",
    "    return np.nonzero(M)"
   ]
  },
  {
   "cell_type": "code",
   "execution_count": 894,
   "metadata": {},
   "outputs": [],
   "source": [
    "def p_aLAP(U, maximize=True):\n",
    "    n = U.shape[0]\n",
    "    nz = np.count_nonzero(U)\n",
    "    S = [[] for _ in range(n)]\n",
    "    x , y = np.unravel_index(np.argsort(-U.ravel()), (n, n))\n",
    "    x = x[:nz]\n",
    "    y = y[:nz]\n",
    "    M = np.zeros((n,n))\n",
    "    D = np.zeros(n)\n",
    "    for i in range(nz):\n",
    "        ind = x[i]\n",
    "        S[ind].append(y[i])\n",
    "    \n",
    "    dominating = [S[S[i][0]][0] == i for i in range(n)]\n",
    "    #print(dominating)\n",
    "    for i in range(n):\n",
    "        if (D[S[i][0]] == 0) and D[i] == 0 and S[i] and S[S[i][0]][0] == i:\n",
    "            b = S[i][0]\n",
    "            D[i] = 1\n",
    "            D[b] = 1\n",
    "            M[[i,b],[b,i]] = 1\n",
    "            S[i].remove(b)\n",
    "            S[b].remove(i)\n",
    "            \n",
    "    #print(np.nonzero(M))\n",
    "    \n",
    "\n",
    "    while (D != 0).any():\n",
    "        vert, = np.nonzero(D)\n",
    "        for v in vert:\n",
    "            D[v] = 0\n",
    "            for x in np.array(S[v]):\n",
    "                if (M[x,:] == 0).all():\n",
    "                    S[x].remove(v)\n",
    "                    if S[x] and S[S[x][0]][0] == x and (M[S[x][0],:] == 0).all():\n",
    "                        b = S[x][0]\n",
    "                        D[x] = 1\n",
    "                        D[b] = 1\n",
    "                        M[[x,b],[b,x]] = 1\n",
    "                        S[x].remove(b)\n",
    "                        S[b].remove(x)\n",
    "\n",
    "    '''\n",
    "    while any(S) and ct < 5:\n",
    "        #print(S)\n",
    "        #print(D)\n",
    "        v_left = []\n",
    "        for i in range(n):\n",
    "            if S[i] and S[S[i][0]][0] == i:\n",
    "                D = D-2\n",
    "                ct = 0\n",
    "                b = S[i][0]\n",
    "                union = np.setdiff1d(list(set(S[b]) | set(S[i])), [i,b])\n",
    "                S[b] = []\n",
    "                S[i] = []\n",
    "                M[[i,b],[b,i]] = 1\n",
    "                for j in union:\n",
    "                    if i in S[j]:\n",
    "                        S[j].remove(i)\n",
    "                    if b in S[j]:\n",
    "                        S[j].remove(b)\n",
    "            else:\n",
    "                v_left = list(set(v_left) | set(S[i]))\n",
    "        if len(v_left) == D:\n",
    "            print('break')\n",
    "            break\n",
    "        #print(v_left)\n",
    "        '''\n",
    "    return np.nonzero(M)        \n",
    "                \n",
    "                \n"
   ]
  },
  {
   "cell_type": "code",
   "execution_count": 912,
   "metadata": {},
   "outputs": [],
   "source": [
    "def p_aLAP(U, maximize=True):\n",
    "    n = U.shape[0]\n",
    "    nz = np.count_nonzero(U)\n",
    "    S = [[] for _ in range(n)]\n",
    "    x , y = np.unravel_index(np.argsort(-U.ravel()), (n, n))\n",
    "    x = x[:nz]\n",
    "    y = y[:nz]\n",
    "    M = np.zeros((n,n))\n",
    "    D = np.zeros(n)\n",
    "    for i in range(nz):\n",
    "        ind = x[i]\n",
    "        S[ind].append(y[i])\n",
    "    \n",
    "    dominating = [S[S[i][0]][0] == i for i in range(n)]\n",
    "    #print(dominating)\n",
    "    for i in range(n):\n",
    "        if (D[S[i][0]] == 0) and S[i] and S[S[i][0]][0] == i:\n",
    "            b = S[i][0]\n",
    "            D[i] = 1\n",
    "            D[b] = 1\n",
    "            M[[i,b],[b,i]] = 1\n",
    "            S[i].remove(b)\n",
    "            S[b].remove(i)\n",
    "            for x in S[i]:\n",
    "                S[x].remove(i)\n",
    "            for x in S[b]:\n",
    "                S[x].remove(b)\n",
    "    #print(np.nonzero(M))\n",
    "    \n",
    "\n",
    "    while (D != 0).any():\n",
    "        vert, = np.nonzero(D)\n",
    "        for v in vert:\n",
    "            D[v] = 0\n",
    "            for x in np.array(S[v]):\n",
    "                    if (M[x,:] == 0).all() and S[x] and S[S[x][0]][0] == x and (M[S[x][0],:] == 0).all():\n",
    "                        b = S[x][0]\n",
    "                        D[x] = 1\n",
    "                        D[b] = 1\n",
    "                        M[[x,b],[b,x]] = 1\n",
    "                        S[x].remove(b)\n",
    "                        S[b].remove(x)\n",
    "                        for i in S[x]:\n",
    "                            S[i].remove(x)\n",
    "                        for i in S[b]:\n",
    "                            S[i].remove(b)\n",
    "    return np.nonzero(M)        \n",
    "                \n",
    "                \n"
   ]
  },
  {
   "cell_type": "code",
   "execution_count": 1222,
   "metadata": {},
   "outputs": [],
   "source": [
    "def parallel(cost_matrix, maximize = True):\n",
    "    if not maximize:\n",
    "        cost_matrix = -cost_matrix\n",
    "    num_vert = cost_matrix.shape[0]\n",
    "    n = 2 * num_vert\n",
    "    matched = np.empty(n)*np.nan\n",
    "    cv = np.zeros(n)\n",
    "    qn = np.zeros(n)\n",
    "    col_argmax = np.argmax(cost_matrix, axis = 0)\n",
    "    row_argmax = np.argmax(cost_matrix, axis = 1)\n",
    "    \n",
    "    cv[:num_vert] = col_argmax + num_vert  #first half points to second, vice versa\n",
    "    cv[num_vert:] = row_argmax\n",
    "    cv = cv.astype(int)\n",
    "    \n",
    "\n",
    "    dom_ind = (cv[cv] == np.arange(n))\n",
    "    matched[dom_ind] = cv[dom_ind] #matched indices, everywhere else nan\n",
    "    qc, = np.nonzero(dom_ind) #dominating vertices\n",
    "\n",
    "    while len(qc) > 0 and np.isnan(matched).any(): #loop while qc not empty, ie new matchings still being found\n",
    "        \n",
    "        temp = np.arange(n)[np.in1d(cv,qc)] #indices of qc in cv\n",
    "        qt = temp[~np.in1d(temp, matched[qc])] #indices of unmatched verts in cv and qc\n",
    "        \n",
    "        qt_p = qt[qt>=num_vert]\n",
    "        qt_n = qt[qt< num_vert]\n",
    "        \n",
    "        m_row = np.arange(num_vert)[np.isnan(matched[num_vert:])] #unmatched rows to check\n",
    "        m_col = np.arange(num_vert)[np.isnan(matched[:num_vert])]  #unmatched cols\n",
    "            \n",
    "        col_argmax = np.argmax(cost_matrix[np.ix_(m_row, qt_n)], axis = 0)\n",
    "        row_argmax = np.argmax(cost_matrix[np.ix_(qt_p - num_vert, m_col)] , axis = 1)\n",
    "        \n",
    "        col_argmax = m_row[col_argmax]\n",
    "        row_argmax = m_col[row_argmax]\n",
    "        \n",
    "        cv[qt_n] = col_argmax + num_vert\n",
    "        cv[qt_p] = row_argmax\n",
    "        cv = cv.astype(int)\n",
    "        \n",
    "        dom_ind = (cv[cv[qt]] == qt)\n",
    "        qt = qt[dom_ind]\n",
    "        matched[qt] = cv[qt] #adding new dominating indices to matching\n",
    "        matched[cv[qt]] = qt\n",
    "        #mate[dom_ind] = cv[dom_ind]\n",
    "        \n",
    "        qn = np.zeros(n)  #store new matchings\n",
    "        qn[qt] = qt\n",
    "        qn[cv[qt]] = cv[qt]\n",
    "        qc = qn[qn>0].astype(int)\n",
    "        \n",
    "    matching = matched[num_vert:]\n",
    "    rows = np.arange(num_vert)[~np.isnan(matching)]\n",
    "    matching = matching[~np.isnan(matching)].astype(int)\n",
    "    return (rows, matching)\n",
    "    "
   ]
  },
  {
   "cell_type": "code",
   "execution_count": 1167,
   "metadata": {},
   "outputs": [
    {
     "name": "stdout",
     "output_type": "stream",
     "text": [
      "[[67. 70. 25. 32. 26. 97. 86. 35.  1. 14.  3. 97.]\n",
      " [ 1. 76. 59. 80. 52. 25. 18. 48. 98. 63. 90. 80.]\n",
      " [56. 47. 29. 36. 55. 93. 76. 21. 34. 58. 92. 55.]\n",
      " [79. 87. 53. 55. 40. 70. 90.  0. 41.  8. 83. 74.]\n",
      " [54. 70. 50. 64. nan nan nan nan nan nan nan nan]\n",
      " [26. 56. 77. 36. nan nan nan nan nan nan nan nan]\n",
      " [77. 42.  1. 76. nan nan nan nan nan nan nan nan]\n",
      " [ 1. 86. 63. 43. nan nan nan nan nan nan nan nan]\n",
      " [43. 11. 61. 92. nan nan nan nan nan nan nan nan]\n",
      " [29. 75. 29. 41. nan nan nan nan nan nan nan nan]\n",
      " [85. 11. 64. 49. nan nan nan nan nan nan nan nan]\n",
      " [75. 80. 39. 44. nan nan nan nan nan nan nan nan]]\n",
      "[[67. 70. 25. 32. 26. 97. 86. 35.  1. 14.  3. 97.]\n",
      " [ 1. 76. 59. 80. 52. 25. 18. 48. 98. 63. 90. 80.]\n",
      " [56. 47. 29. 36. 55. 93. 76. 21. 34. 58. 92. 55.]\n",
      " [79. 87. 53. 55. 40. 70. 90.  0. 41.  8. 83. 74.]\n",
      " [54. 70. 50. 64. nan nan nan nan nan nan nan nan]\n",
      " [26. 56. 77. 36. nan nan nan nan nan nan nan nan]\n",
      " [77. 42.  1. 76. nan nan nan nan nan nan nan nan]\n",
      " [ 1. 86. 63. 43. nan nan nan nan nan nan nan nan]\n",
      " [43. 11. 61. 92. nan nan nan nan nan nan nan nan]\n",
      " [29. 75. 29. 41. nan nan nan nan nan nan nan nan]\n",
      " [85. 11. 64. 49. nan nan nan nan nan nan nan nan]\n",
      " [75. 80. 39. 44. nan nan nan nan nan nan nan nan]]\n",
      "(array([ 0,  1,  3,  4,  5,  6,  7,  8,  9, 10, 11]), array([ 0,  3,  1,  4,  5,  6,  7,  8,  9, 10, 11]))\n",
      "[[1. 0. 0. 0. 0. 0. 0. 0. 0. 0. 0. 0.]\n",
      " [0. 0. 0. 1. 0. 0. 0. 0. 0. 0. 0. 0.]\n",
      " [0. 0. 0. 0. 0. 0. 0. 0. 0. 0. 0. 0.]\n",
      " [0. 1. 0. 0. 0. 0. 0. 0. 0. 0. 0. 0.]\n",
      " [0. 0. 0. 0. 1. 0. 0. 0. 0. 0. 0. 0.]\n",
      " [0. 0. 0. 0. 0. 1. 0. 0. 0. 0. 0. 0.]\n",
      " [0. 0. 0. 0. 0. 0. 1. 0. 0. 0. 0. 0.]\n",
      " [0. 0. 0. 0. 0. 0. 0. 1. 0. 0. 0. 0.]\n",
      " [0. 0. 0. 0. 0. 0. 0. 0. 1. 0. 0. 0.]\n",
      " [0. 0. 0. 0. 0. 0. 0. 0. 0. 1. 0. 0.]\n",
      " [0. 0. 0. 0. 0. 0. 0. 0. 0. 0. 1. 0.]\n",
      " [0. 0. 0. 0. 0. 0. 0. 0. 0. 0. 0. 1.]]\n",
      "[[67. 70. 25. 32. 26. 97. 86. 35.  1. 14.  3. 97.]\n",
      " [ 1. 76. 59. 80. 52. 25. 18. 48. 98. 63. 90. 80.]\n",
      " [56. 47. 29. 36. 55. 93. 76. 21. 34. 58. 92. 55.]\n",
      " [79. 87. 53. 55. 40. 70. 90.  0. 41.  8. 83. 74.]\n",
      " [54. 70. 50. 64.  0.  0.  0.  0.  0.  0.  0.  0.]\n",
      " [26. 56. 77. 36.  0.  0.  0.  0.  0.  0.  0.  0.]\n",
      " [77. 42.  1. 76.  0.  0.  0.  0.  0.  0.  0.  0.]\n",
      " [ 1. 86. 63. 43.  0.  0.  0.  0.  0.  0.  0.  0.]\n",
      " [43. 11. 61. 92.  0.  0.  0.  0.  0.  0.  0.  0.]\n",
      " [29. 75. 29. 41.  0.  0.  0.  0.  0.  0.  0.  0.]\n",
      " [85. 11. 64. 49.  0.  0.  0.  0.  0.  0.  0.  0.]\n",
      " [75. 80. 39. 44.  0.  0.  0.  0.  0.  0.  0.  0.]]\n",
      "[[67. 70. 25. 32. 26. 97. 86. 35.  1. 14.  3. 97.]\n",
      " [ 1. 76. 59. 80. 52. 25. 18. 48. 98. 63. 90. 80.]\n",
      " [56. 47. 29. 36. 55. 93. 76. 21. 34. 58. 92. 55.]\n",
      " [79. 87. 53. 55. 40. 70. 90.  0. 41.  8. 83. 74.]\n",
      " [54. 70. 50. 64.  0.  0.  0.  0.  0.  0.  0.  0.]\n",
      " [26. 56. 77. 36.  0.  0.  0.  0.  0.  0.  0.  0.]\n",
      " [77. 42.  1. 76.  0.  0.  0.  0.  0.  0.  0.  0.]\n",
      " [ 1. 86. 63. 43.  0.  0.  0.  0.  0.  0.  0.  0.]\n",
      " [43. 11. 61. 92.  0.  0.  0.  0.  0.  0.  0.  0.]\n",
      " [29. 75. 29. 41.  0.  0.  0.  0.  0.  0.  0.  0.]\n",
      " [85. 11. 64. 49.  0.  0.  0.  0.  0.  0.  0.  0.]\n",
      " [75. 80. 39. 44.  0.  0.  0.  0.  0.  0.  0.  0.]]\n",
      "(array([ 0,  1,  2,  3,  4,  5,  6,  7,  8,  9, 10, 11]), array([ 5,  8, 10,  6,  4,  2,  7,  1,  3,  9,  0, 11]))\n",
      "[[0. 0. 0. 0. 0. 1. 0. 0. 0. 0. 0. 0.]\n",
      " [0. 0. 0. 0. 0. 0. 0. 0. 1. 0. 0. 0.]\n",
      " [0. 0. 0. 0. 0. 0. 0. 0. 0. 0. 1. 0.]\n",
      " [0. 0. 0. 0. 0. 0. 1. 0. 0. 0. 0. 0.]\n",
      " [0. 0. 0. 0. 1. 0. 0. 0. 0. 0. 0. 0.]\n",
      " [0. 0. 1. 0. 0. 0. 0. 0. 0. 0. 0. 0.]\n",
      " [0. 0. 0. 0. 0. 0. 0. 1. 0. 0. 0. 0.]\n",
      " [0. 1. 0. 0. 0. 0. 0. 0. 0. 0. 0. 0.]\n",
      " [0. 0. 0. 1. 0. 0. 0. 0. 0. 0. 0. 0.]\n",
      " [0. 0. 0. 0. 0. 0. 0. 0. 0. 1. 0. 0.]\n",
      " [1. 0. 0. 0. 0. 0. 0. 0. 0. 0. 0. 0.]\n",
      " [0. 0. 0. 0. 0. 0. 0. 0. 0. 0. 0. 1.]]\n"
     ]
    }
   ],
   "source": [
    "qapprob ='chr12a'\n",
    "m = dense_matrix(12)\n",
    "m1 = np.empty((12,12)) * np.nan\n",
    "m1[:4,:] = m[:4,:]\n",
    "m1[4:, :4] = m[4:,:4]\n",
    "print(m1)\n",
    "M = parallel(m1)\n",
    "z = np.zeros((12,12))\n",
    "z[M] = 1\n",
    "print(m1)\n",
    "print(M)\n",
    "print(z)\n",
    "\n",
    "m1 = np.zeros((12,12))\n",
    "m1[:4,:] = m[:4,:]\n",
    "m1[4:, :4] = m[4:,:4]\n",
    "print(m1)\n",
    "M = parallel(m1)\n",
    "z = np.zeros((12,12))\n",
    "z[M] = 1\n",
    "print(m1)\n",
    "print(M)\n",
    "print(z)\n",
    "\n",
    "# m2 = np.zeros((12,12))\n",
    "# m2[4:8,:] = m[4:8,:]\n",
    "# m2[:, 4:8] = m[:,4:8]\n",
    "# M = parallel(m2)\n",
    "# z = np.zeros((12,12))\n",
    "# z[M] = 1\n",
    "# print(m2)\n",
    "# print(M)\n",
    "# print(z)"
   ]
  },
  {
   "cell_type": "code",
   "execution_count": 1486,
   "metadata": {},
   "outputs": [
    {
     "name": "stdout",
     "output_type": "stream",
     "text": [
      "score:  1022\n",
      "the run time is:  0.00110626220703125\n",
      "score:  1022\n",
      "the run time is:  0.0007910728454589844\n"
     ]
    }
   ],
   "source": [
    "import time\n",
    "datafile = np.load(\"qap_probs.npz\",allow_pickle=True)\n",
    "qapprob ='chr12a'\n",
    "A = datafile[qapprob][1]\n",
    "#A = np.genfromtxt('densesym1000.csv', delimiter = ',')\n",
    "#A = dense_matrix(20)\n",
    "n = A.shape[0]\n",
    "#print(np.count_nonzero(A)/2) #number of edges\n",
    "start = time.time()\n",
    "\n",
    "#M= p_aLAP(A, maximize=True)\n",
    "M = parallel(A)\n",
    "#M = linear_sum_assignment(-A)\n",
    "end = time.time()\n",
    "#print(M)\n",
    "#A = datafile[qapprob][1]\n",
    "#A = np.genfromtxt('dense1500.csv', delimiter = ',')\n",
    "#print(A)\n",
    "#print(M)\n",
    "print(\"score: \" , A[M].sum())\n",
    "print('the run time is: ',str(end-start))\n",
    "\n",
    "\n",
    "start = time.time()\n",
    "\n",
    "M = aLAP_ali(A)\n",
    "end = time.time()\n",
    "\n",
    "print(\"score: \" , A[M].sum())\n",
    "print('the run time is: ',str(end-start))\n",
    "#print(M)\n",
    "#print(matrix)"
   ]
  },
  {
   "cell_type": "code",
   "execution_count": 601,
   "metadata": {},
   "outputs": [
    {
     "ename": "KeyboardInterrupt",
     "evalue": "",
     "output_type": "error",
     "traceback": [
      "\u001b[0;31m---------------------------------------------------------------------------\u001b[0m",
      "\u001b[0;31mKeyboardInterrupt\u001b[0m                         Traceback (most recent call last)",
      "\u001b[0;32m<ipython-input-601-952e5053a0ce>\u001b[0m in \u001b[0;36m<module>\u001b[0;34m\u001b[0m\n\u001b[1;32m      9\u001b[0m     \u001b[0mA\u001b[0m \u001b[0;34m=\u001b[0m \u001b[0mdatafile\u001b[0m\u001b[0;34m[\u001b[0m\u001b[0mprob\u001b[0m\u001b[0;34m]\u001b[0m\u001b[0;34m[\u001b[0m\u001b[0;36m1\u001b[0m\u001b[0;34m]\u001b[0m\u001b[0;34m\u001b[0m\u001b[0;34m\u001b[0m\u001b[0m\n\u001b[1;32m     10\u001b[0m     \u001b[0mstart\u001b[0m \u001b[0;34m=\u001b[0m \u001b[0mtime\u001b[0m\u001b[0;34m.\u001b[0m\u001b[0mtime\u001b[0m\u001b[0;34m(\u001b[0m\u001b[0;34m)\u001b[0m\u001b[0;34m\u001b[0m\u001b[0;34m\u001b[0m\u001b[0m\n\u001b[0;32m---> 11\u001b[0;31m     \u001b[0mM\u001b[0m \u001b[0;34m=\u001b[0m \u001b[0mp_aLAP\u001b[0m\u001b[0;34m(\u001b[0m\u001b[0mA\u001b[0m\u001b[0;34m,\u001b[0m \u001b[0mmaximize\u001b[0m\u001b[0;34m=\u001b[0m\u001b[0;32mTrue\u001b[0m\u001b[0;34m)\u001b[0m\u001b[0;34m\u001b[0m\u001b[0;34m\u001b[0m\u001b[0m\n\u001b[0m\u001b[1;32m     12\u001b[0m     \u001b[0mend\u001b[0m \u001b[0;34m=\u001b[0m \u001b[0mtime\u001b[0m\u001b[0;34m.\u001b[0m\u001b[0mtime\u001b[0m\u001b[0;34m(\u001b[0m\u001b[0;34m)\u001b[0m\u001b[0;34m\u001b[0m\u001b[0;34m\u001b[0m\u001b[0m\n\u001b[1;32m     13\u001b[0m     \u001b[0mruntime\u001b[0m\u001b[0;34m[\u001b[0m\u001b[0mi\u001b[0m\u001b[0;34m]\u001b[0m \u001b[0;34m=\u001b[0m \u001b[0mstr\u001b[0m\u001b[0;34m(\u001b[0m\u001b[0mend\u001b[0m\u001b[0;34m-\u001b[0m\u001b[0mstart\u001b[0m\u001b[0;34m)\u001b[0m\u001b[0;34m\u001b[0m\u001b[0;34m\u001b[0m\u001b[0m\n",
      "\u001b[0;32m<ipython-input-600-2c74eb0a5a5b>\u001b[0m in \u001b[0;36mp_aLAP\u001b[0;34m(U, maximize)\u001b[0m\n\u001b[1;32m     12\u001b[0m \u001b[0;34m\u001b[0m\u001b[0m\n\u001b[1;32m     13\u001b[0m \u001b[0;34m\u001b[0m\u001b[0m\n\u001b[0;32m---> 14\u001b[0;31m     \u001b[0;32mwhile\u001b[0m \u001b[0many\u001b[0m\u001b[0;34m(\u001b[0m\u001b[0mS\u001b[0m\u001b[0;34m)\u001b[0m\u001b[0;34m:\u001b[0m\u001b[0;34m\u001b[0m\u001b[0;34m\u001b[0m\u001b[0m\n\u001b[0m\u001b[1;32m     15\u001b[0m         \u001b[0;31m#print(S)\u001b[0m\u001b[0;34m\u001b[0m\u001b[0;34m\u001b[0m\u001b[0;34m\u001b[0m\u001b[0m\n\u001b[1;32m     16\u001b[0m         \u001b[0;32mfor\u001b[0m \u001b[0mi\u001b[0m \u001b[0;32min\u001b[0m \u001b[0mrange\u001b[0m\u001b[0;34m(\u001b[0m\u001b[0mn\u001b[0m\u001b[0;34m)\u001b[0m\u001b[0;34m:\u001b[0m\u001b[0;34m\u001b[0m\u001b[0;34m\u001b[0m\u001b[0m\n",
      "\u001b[0;32m<__array_function__ internals>\u001b[0m in \u001b[0;36many\u001b[0;34m(*args, **kwargs)\u001b[0m\n",
      "\u001b[0;32m~/anaconda3/lib/python3.7/site-packages/numpy/core/fromnumeric.py\u001b[0m in \u001b[0;36many\u001b[0;34m(a, axis, out, keepdims)\u001b[0m\n\u001b[1;32m   2315\u001b[0m \u001b[0;34m\u001b[0m\u001b[0m\n\u001b[1;32m   2316\u001b[0m     \"\"\"\n\u001b[0;32m-> 2317\u001b[0;31m     \u001b[0;32mreturn\u001b[0m \u001b[0m_wrapreduction\u001b[0m\u001b[0;34m(\u001b[0m\u001b[0ma\u001b[0m\u001b[0;34m,\u001b[0m \u001b[0mnp\u001b[0m\u001b[0;34m.\u001b[0m\u001b[0mlogical_or\u001b[0m\u001b[0;34m,\u001b[0m \u001b[0;34m'any'\u001b[0m\u001b[0;34m,\u001b[0m \u001b[0maxis\u001b[0m\u001b[0;34m,\u001b[0m \u001b[0;32mNone\u001b[0m\u001b[0;34m,\u001b[0m \u001b[0mout\u001b[0m\u001b[0;34m,\u001b[0m \u001b[0mkeepdims\u001b[0m\u001b[0;34m=\u001b[0m\u001b[0mkeepdims\u001b[0m\u001b[0;34m)\u001b[0m\u001b[0;34m\u001b[0m\u001b[0;34m\u001b[0m\u001b[0m\n\u001b[0m\u001b[1;32m   2318\u001b[0m \u001b[0;34m\u001b[0m\u001b[0m\n\u001b[1;32m   2319\u001b[0m \u001b[0;34m\u001b[0m\u001b[0m\n",
      "\u001b[0;32m~/anaconda3/lib/python3.7/site-packages/numpy/core/fromnumeric.py\u001b[0m in \u001b[0;36m_wrapreduction\u001b[0;34m(obj, ufunc, method, axis, dtype, out, **kwargs)\u001b[0m\n\u001b[1;32m     88\u001b[0m                 \u001b[0;32mreturn\u001b[0m \u001b[0mreduction\u001b[0m\u001b[0;34m(\u001b[0m\u001b[0maxis\u001b[0m\u001b[0;34m=\u001b[0m\u001b[0maxis\u001b[0m\u001b[0;34m,\u001b[0m \u001b[0mout\u001b[0m\u001b[0;34m=\u001b[0m\u001b[0mout\u001b[0m\u001b[0;34m,\u001b[0m \u001b[0;34m**\u001b[0m\u001b[0mpasskwargs\u001b[0m\u001b[0;34m)\u001b[0m\u001b[0;34m\u001b[0m\u001b[0;34m\u001b[0m\u001b[0m\n\u001b[1;32m     89\u001b[0m \u001b[0;34m\u001b[0m\u001b[0m\n\u001b[0;32m---> 90\u001b[0;31m     \u001b[0;32mreturn\u001b[0m \u001b[0mufunc\u001b[0m\u001b[0;34m.\u001b[0m\u001b[0mreduce\u001b[0m\u001b[0;34m(\u001b[0m\u001b[0mobj\u001b[0m\u001b[0;34m,\u001b[0m \u001b[0maxis\u001b[0m\u001b[0;34m,\u001b[0m \u001b[0mdtype\u001b[0m\u001b[0;34m,\u001b[0m \u001b[0mout\u001b[0m\u001b[0;34m,\u001b[0m \u001b[0;34m**\u001b[0m\u001b[0mpasskwargs\u001b[0m\u001b[0;34m)\u001b[0m\u001b[0;34m\u001b[0m\u001b[0;34m\u001b[0m\u001b[0m\n\u001b[0m\u001b[1;32m     91\u001b[0m \u001b[0;34m\u001b[0m\u001b[0m\n\u001b[1;32m     92\u001b[0m \u001b[0;34m\u001b[0m\u001b[0m\n",
      "\u001b[0;31mKeyboardInterrupt\u001b[0m: "
     ]
    }
   ],
   "source": [
    "from scipy.optimize import linear_sum_assignment\n",
    "import pandas as pd\n",
    "qapprob = ['chr12a','chr15a','chr20a','chr22a','chr25a']\n",
    "runtime = np.zeros(len(qapprob))\n",
    "scores_aLAP = np.zeros(len(qapprob))\n",
    "scores_Lap = np.zeros(len(qapprob))\n",
    "for i in range(len(qapprob)):\n",
    "    prob = qapprob[i]\n",
    "    A = datafile[prob][1]\n",
    "    start = time.time()\n",
    "    M = p_aLAP(A, maximize=True)\n",
    "    end = time.time()\n",
    "    runtime[i] = str(end-start)\n",
    "    A = datafile[prob][1]\n",
    "    scores_Lap[i] = A[M].sum()\n",
    "    \n",
    "mat = np.zeros((len(qapprob),2))\n",
    "mat[:,0] = scores_Lap\n",
    "mat[:,1] = runtime\n",
    "\n",
    "df = pd.DataFrame(mat,columns=[\"Score\", \"Runtime\"])\n",
    "df.insert(0,\"QAP\",qapprob,True)\n",
    "print(df)"
   ]
  },
  {
   "cell_type": "code",
   "execution_count": 690,
   "metadata": {},
   "outputs": [
    {
     "name": "stdout",
     "output_type": "stream",
     "text": [
      "0\n",
      "[[ 0 90 10 23 43  0  0  0  0  0  0  0]\n",
      " [90  0  0  0  0 88  0  0  0  0  0  0]\n",
      " [10  0  0  0  0  0 26 16  0  0  0  0]\n",
      " [23  0  0  0  0  0  0  0  0  0  0  0]\n",
      " [43  0  0  0  0  0  0  0  0  0  0  0]\n",
      " [ 0 88  0  0  0  0  0  0  1  0  0  0]\n",
      " [ 0  0 26  0  0  0  0  0  0  0  0  0]\n",
      " [ 0  0 16  0  0  0  0  0  0 96  0  0]\n",
      " [ 0  0  0  0  0  1  0  0  0  0 29  0]\n",
      " [ 0  0  0  0  0  0  0 96  0  0  0 37]\n",
      " [ 0  0  0  0  0  0  0  0 29  0  0  0]\n",
      " [ 0  0  0  0  0  0  0  0  0 37  0  0]]\n",
      "(array([ 7,  9,  0,  1,  1,  5,  0,  4, 11,  9,  8, 10,  6,  2,  0,  3,  2,\n",
      "        7,  0,  2,  5,  8,  8,  8,  8,  8,  8,  8,  8,  0,  7,  7,  8,  7,\n",
      "        7,  7,  7,  7,  7,  7,  6,  6,  6,  8,  7,  9,  9, 11, 11, 11, 11,\n",
      "       11, 11, 11, 11, 11, 10, 10, 10, 10, 10, 10, 10, 10, 10, 10, 10,  9,\n",
      "        9,  9,  6,  9,  9,  9,  9,  9,  8,  6,  5,  6,  3,  3,  3,  2,  2,\n",
      "        2,  2,  2,  2,  2,  2,  2,  1,  1,  1,  1,  1,  1,  1,  1,  1,  1,\n",
      "        0,  0,  0,  0,  0,  0,  0,  3,  6,  3,  3,  6,  6,  6,  6, 11,  5,\n",
      "        5,  5,  5,  5,  5,  5,  5,  5,  4,  4,  4,  4,  4,  4,  4,  4,  4,\n",
      "        4,  4,  3,  3,  3,  3,  3, 11]), array([ 9,  7,  1,  0,  5,  1,  4,  0,  9, 11, 10,  8,  2,  6,  3,  0,  7,\n",
      "        2,  2,  0,  8,  5,  2,  4,  6,  7,  8,  3,  1,  0, 11, 10,  9,  7,\n",
      "        6,  5,  4,  3,  1,  0, 11, 10,  9,  0,  8,  6,  0,  8,  7,  6,  5,\n",
      "        4,  3,  2,  1,  0, 11, 10,  9,  7,  6,  5,  4,  3,  2,  1,  0, 10,\n",
      "        9,  8,  8,  5,  4,  3,  2,  1, 11,  7, 11,  5,  3,  2,  1, 11, 10,\n",
      "        9,  8,  5,  4,  3,  2,  1, 11, 10,  9,  8,  7,  6,  4,  3,  2,  1,\n",
      "       11, 10,  9,  8,  7,  6,  5,  4,  6,  5,  7,  4,  3,  1,  0, 10, 10,\n",
      "        9,  7,  6,  5,  4,  3,  2,  0, 11, 10,  9,  8,  7,  6,  5,  4,  3,\n",
      "        2,  1, 11, 10,  9,  8,  6, 11]))\n",
      "  (0, 1)\t90\n",
      "  (0, 2)\t10\n",
      "  (0, 3)\t23\n",
      "  (0, 4)\t43\n",
      "  (1, 0)\t90\n",
      "  (1, 5)\t88\n",
      "  (2, 0)\t10\n",
      "  (2, 6)\t26\n",
      "  (2, 7)\t16\n",
      "  (3, 0)\t23\n",
      "  (4, 0)\t43\n",
      "  (5, 1)\t88\n",
      "  (5, 8)\t1\n",
      "  (6, 2)\t26\n",
      "  (7, 2)\t16\n",
      "  (7, 9)\t96\n",
      "  (8, 5)\t1\n",
      "  (8, 10)\t29\n",
      "  (9, 7)\t96\n",
      "  (9, 11)\t37\n",
      "  (10, 8)\t29\n",
      "  (11, 9)\t37\n",
      "[ 7  9  0  1  1  5  0  4 11  9  8 10  6  2  0  3  2  7  0  2  5  8]\n",
      "22\n",
      "[[1, 4, 3, 2], [0, 5], [6, 7, 0], [0], [0], [1, 8], [2], [9, 2], [10, 5], [7, 11], [8], [9]]\n"
     ]
    }
   ],
   "source": [
    "from scipy.sparse import csr_matrix\n",
    "qapprob ='chr12a'\n",
    "A = datafile[qapprob][0]\n",
    "z = np.zeros((5,5))\n",
    "csr_M = csr_matrix(z)\n",
    "#csr_M[[0,1],[1,0]] = 1\n",
    "print(csr_M.count_nonzero())\n",
    "csr_A = csr_matrix(A)\n",
    "n = len(A)\n",
    "print(A)\n",
    "print(np.unravel_index(np.argsort(-A.ravel()), (12, 12)))\n",
    "print(csr_A)\n",
    "nz = np.count_nonzero(A)\n",
    "S = [[] for _ in range(12)]\n",
    "x,y = np.unravel_index(np.argsort(-A.ravel()), (12, 12))\n",
    "x = x[:nz]\n",
    "y = y[:nz]\n",
    "for i in range(len(x)):\n",
    "    ind = x[i]\n",
    "    S[ind].append(y[i])\n",
    "print(x)\n",
    "print(np.count_nonzero(A))\n",
    "print(S)"
   ]
  },
  {
   "cell_type": "code",
   "execution_count": 1495,
   "metadata": {},
   "outputs": [
    {
     "name": "stdout",
     "output_type": "stream",
     "text": [
      "0\n",
      "1\n",
      "2\n",
      "3\n",
      "4\n",
      "5\n",
      "6\n",
      "7\n",
      "8\n",
      "9\n",
      "10\n",
      "11\n",
      "12\n"
     ]
    },
    {
     "data": {
      "text/plain": [
       "Text(0, 0.5, 'runtime (sec)')"
      ]
     },
     "execution_count": 1495,
     "metadata": {},
     "output_type": "execute_result"
    },
    {
     "data": {
      "image/png": "[encoded data removed]",
      "text/plain": [
       "<Figure size 432x288 with 1 Axes>"
      ]
     },
     "metadata": {
      "needs_background": "light"
     },
     "output_type": "display_data"
    },
    {
     "data": {
      "image/png": "[encoded data removed]",
      "text/plain": [
       "<Figure size 432x288 with 1 Axes>"
      ]
     },
     "metadata": {
      "needs_background": "light"
     },
     "output_type": "display_data"
    }
   ],
   "source": [
    "#n = [10, 50, 100, 250, 500]\n",
    "n = [50, 100, 150, 200, 250, 300, 350,500,750, 1000, 1250, 1500, 1750] \n",
    "     #2000, 2250, 2500, 2750, 3000]\n",
    "scipy = np.zeros((len(n), 2))\n",
    "alap = np.zeros((len(n), 2))\n",
    "m = 5\n",
    "for i, node in enumerate(n):\n",
    "    for j in range(m):\n",
    "        A = dense_matrix(node)\n",
    "        start = time.time()\n",
    "        M = linear_sum_assignment(-A)\n",
    "        end = time.time()\n",
    "        scipy[i,0] = scipy[i,0] + (end-start)\n",
    "        scipy[i,1] = scipy[i,1] + A[M].sum()\n",
    "\n",
    "        start = time.time()\n",
    "        M = aLAP_ali(A)\n",
    "        end = time.time()\n",
    "        alap[i,0] = alap[i,0] + (end-start)\n",
    "        alap[i,1] = alap[i,1] + A[M].sum()\n",
    "    \n",
    "    scipy[i,0] = scipy[i,0]/m\n",
    "    alap[i,0] = alap[i,0]/m\n",
    "    print(i)\n",
    "plt.plot(n, scipy[:,0])\n",
    "plt.xlabel('nodes')\n",
    "plt.ylabel('runtime (sec)')\n",
    "plt.title('Scipy')\n",
    "figure()\n",
    "plt.plot(n, alap[:,0])\n",
    "plt.title('aLAP parallel')\n",
    "plt.xlabel('nodes')\n",
    "plt.ylabel('runtime (sec)')"
   ]
  },
  {
   "cell_type": "code",
   "execution_count": 1496,
   "metadata": {},
   "outputs": [
    {
     "data": {
      "text/plain": [
       "Text(0.15, 0.8, 'R^2 = 0.8486925453761479')"
      ]
     },
     "execution_count": 1496,
     "metadata": {},
     "output_type": "execute_result"
    },
    {
     "data": {
      "image/png": "[encoded data removed]",
      "text/plain": [
       "<Figure size 432x288 with 1 Axes>"
      ]
     },
     "metadata": {
      "needs_background": "light"
     },
     "output_type": "display_data"
    },
    {
     "data": {
      "image/png": "[encoded data removed]",
      "text/plain": [
       "<Figure size 432x288 with 1 Axes>"
      ]
     },
     "metadata": {
      "needs_background": "light"
     },
     "output_type": "display_data"
    },
    {
     "data": {
      "image/png": "[encoded data removed]",
      "text/plain": [
       "<Figure size 432x288 with 1 Axes>"
      ]
     },
     "metadata": {
      "needs_background": "light"
     },
     "output_type": "display_data"
    },
    {
     "data": {
      "image/png": "[encoded data removed]",
      "text/plain": [
       "<Figure size 432x288 with 1 Axes>"
      ]
     },
     "metadata": {
      "needs_background": "light"
     },
     "output_type": "display_data"
    }
   ],
   "source": [
    "from scipy.stats import linregress\n",
    "plt.scatter(n, alap[:,0])\n",
    "# coef = np.polyfit([i**2 for i in n], alap[:,0], 2)\n",
    "coef = np.polyfit(n, alap[:,0], 3)\n",
    "y_new = np.poly1d(coef)\n",
    "plt.plot(np.linspace(0,max(n),100), y_new(np.linspace(0,max(n),100)))\n",
    "plt.title(\"Polynomial Fitting (deg=3)\")\n",
    "plt.ylabel('runtime (seconds)')\n",
    "plt.xlabel('nodes (n)')\n",
    "\n",
    "plt.figure()\n",
    "plt.scatter([(i**2) for i in n], alap[:,0])\n",
    "# coef = np.polyfit([(i**2) for i in n], alap[:,0], 1)\n",
    "# y_new = np.poly1d(coef)\n",
    "res = linregress([i**2 for i in n], alap[:,0])\n",
    "y_new = np.poly1d([res[0], res[1]])\n",
    "m = np.max([(i**2) for i in n])\n",
    "plt.plot(np.linspace(0,m,100), y_new(np.linspace(0,m,100)))\n",
    "plt.title(\"Linear Regression\")\n",
    "plt.ylabel('runtime (seconds)')\n",
    "plt.xlabel('n^2')\n",
    "plt.figtext(0.15,0.80, 'R^2 = '+ str(res[2]**2))\n",
    "\n",
    "plt.figure()\n",
    "plt.scatter([(i**2)*np.log(i) for i in n], alap[:,0])\n",
    "res = linregress([(i**2)*np.log(i) for i in n], alap[:,0])\n",
    "y_new = np.poly1d([res[0], res[1]])\n",
    "m = np.max([(i**2)*np.log(i) for i in n])\n",
    "plt.plot(np.linspace(0,m,100), y_new(np.linspace(0,m,100)))\n",
    "plt.title(\"Linear Regression\")\n",
    "plt.ylabel('runtime (seconds)')\n",
    "plt.xlabel('n^2 log(n)')\n",
    "plt.figtext(0.15,0.80, 'R^2 = '+ str(res[2]**2))\n",
    "\n",
    "plt.figure()\n",
    "plt.scatter([(i**3) for i in n], alap[:,0])\n",
    "res = linregress([(i**3) for i in n], alap[:,0])\n",
    "y_new = np.poly1d([res[0], res[1]])\n",
    "m = np.max([(i**3) for i in n])\n",
    "plt.plot(np.linspace(0,m,100), y_new(np.linspace(0,m,100)))\n",
    "plt.title(\"Linear Regression\")\n",
    "plt.ylabel('runtime (seconds)')\n",
    "plt.xlabel('n^3')\n",
    "plt.figtext(0.15,0.80, 'R^2 = '+ str(res[2]**2))"
   ]
  },
  {
   "cell_type": "code",
   "execution_count": 1494,
   "metadata": {},
   "outputs": [
    {
     "data": {
      "text/plain": [
       "Text(0.15, 0.8, 'R^2 = 0.9924685988055933')"
      ]
     },
     "execution_count": 1494,
     "metadata": {},
     "output_type": "execute_result"
    },
    {
     "data": {
      "image/png": "[encoded data removed]",
      "text/plain": [
       "<Figure size 432x288 with 1 Axes>"
      ]
     },
     "metadata": {
      "needs_background": "light"
     },
     "output_type": "display_data"
    },
    {
     "data": {
      "image/png": "[encoded data removed]",
      "text/plain": [
       "<Figure size 432x288 with 1 Axes>"
      ]
     },
     "metadata": {
      "needs_background": "light"
     },
     "output_type": "display_data"
    },
    {
     "data": {
      "image/png": "[encoded data removed]",
      "text/plain": [
       "<Figure size 432x288 with 1 Axes>"
      ]
     },
     "metadata": {
      "needs_background": "light"
     },
     "output_type": "display_data"
    }
   ],
   "source": [
    "from matplotlib.offsetbox import AnchoredText\n",
    "\n",
    "plt.scatter(n, scipy[:,0])\n",
    "# coef = np.polyfit([i**2 for i in n], alap[:,0], 2)\n",
    "coef = np.polyfit(n, scipy[:,0], 2)\n",
    "y_new = np.poly1d(coef)\n",
    "plt.plot(np.linspace(0,max(n),100), y_new(np.linspace(0,max(n),100)))\n",
    "plt.title(\"Polynomial Fitting (deg=2) [scipy]\")\n",
    "plt.ylabel('runtime (seconds)')\n",
    "plt.xlabel('nodes (n)')\n",
    "\n",
    "# plt.figure()\n",
    "# plt.scatter([(i**2)*np.log(i) for i in n], scipy[:,0])\n",
    "# coef = np.polyfit([(i**2)*np.log(i) for i in n], scipy[:,0], 1)\n",
    "# y_new = np.poly1d(coef)\n",
    "# m = np.max([(i**2)*np.log(i) for i in n])\n",
    "# plt.plot(np.linspace(0,m,100), y_new(np.linspace(0,m,100)))\n",
    "# print(coef)\n",
    "\n",
    "plt.figure()\n",
    "plt.scatter([(i**2) for i in n], scipy[:,0])\n",
    "# coef = np.polyfit([i**2 for i in n], scipy[:,0], 1)\n",
    "# y_new = np.poly1d(coef)\n",
    "res = linregress([i**2 for i in n], scipy[:,0])\n",
    "y_new = np.poly1d([res[0], res[1]])\n",
    "m = np.max([(i**2) for i in n])\n",
    "plt.plot(np.linspace(0,m,100), y_new(np.linspace(0,m,100)))\n",
    "plt.title(\"Linear Regression [scipy]\")\n",
    "plt.ylabel('runtime (seconds)')\n",
    "plt.xlabel('n^2')\n",
    "plt.figtext(0.15,0.80, 'R^2 = '+ str(res[2]**2))\n",
    "\n",
    "plt.figure()\n",
    "plt.scatter([(i**2.3) for i in n], scipy[:,0])\n",
    "res = linregress([i**2.3 for i in n], scipy[:,0])\n",
    "y_new = np.poly1d([res[0], res[1]])\n",
    "m = np.max([(i**2.3) for i in n])\n",
    "plt.plot(np.linspace(0,m,100), y_new(np.linspace(0,m,100)))\n",
    "plt.title(\"Polynomial Fitting (deg=1) [scipy]\")\n",
    "plt.ylabel('runtime (seconds)')\n",
    "plt.xlabel('n^2.3')\n",
    "plt.figtext(0.15,0.80, 'R^2 = '+ str(res[2]**2))\n"
   ]
  },
  {
   "cell_type": "code",
   "execution_count": 923,
   "metadata": {},
   "outputs": [
    {
     "name": "stdout",
     "output_type": "stream",
     "text": [
      "[[66.  5. 25. ... 71. 97.  5.]\n",
      " [75.  9. 39. ... 69. 63. 35.]\n",
      " [14. 44. 96. ... 76. 95.  7.]\n",
      " ...\n",
      " [27. 58. 30. ... 88.  7. 33.]\n",
      " [33. 54. 32. ... 48. 60. 12.]\n",
      " [54. 67. 91. ... 19. 85. 48.]]\n"
     ]
    }
   ],
   "source": [
    "# generate random symmetric matrix, entries [0,100)\n",
    "import random\n",
    "def dense_matrix(num):\n",
    "    matrix = np.zeros((num,num))\n",
    "    for row in range(num):\n",
    "        for col in range(num):\n",
    "            matrix[row,col] = random.randrange(100)\n",
    "    return matrix\n",
    "\n",
    "print(dense_matrix(1000))\n",
    "numpy.savetxt(\"densesym1000.csv\", dense_matrix(1000), delimiter=\",\")"
   ]
  },
  {
   "cell_type": "code",
   "execution_count": 1459,
   "metadata": {},
   "outputs": [
    {
     "name": "stdout",
     "output_type": "stream",
     "text": [
      "[[ 0.  0. 39.  0.  0.  0.  0.  0.  0.  0.]\n",
      " [ 0.  0.  0. 75.  0.  0.  0.  0.  0.  0.]\n",
      " [ 0.  0.  0.  0.  0.  0.  0.  0.  0. 30.]\n",
      " [ 0.  0.  0.  0.  0.  0.  0.  0.  5.  0.]\n",
      " [ 0.  0.  0.  0. 99.  0.  0.  0.  0.  0.]\n",
      " [ 0.  0.  0.  0.  0. 89.  0.  0.  0.  0.]\n",
      " [ 0.  0.  0.  0.  0.  0.  0. 27.  0.  0.]\n",
      " [ 0.  0.  0.  0.  0.  0. 85.  0.  0.  0.]\n",
      " [ 0. 49.  0.  0.  0.  0.  0.  0.  0.  0.]\n",
      " [95.  0.  0.  0.  0.  0.  0.  0.  0.  0.]]\n"
     ]
    }
   ],
   "source": [
    "def sparse_matrix(n,m): # n = number of nodes, m = number of edges\n",
    "    m = int(m)\n",
    "    matrix = np.zeros((n,n))\n",
    "    rows = random.sample(range(n), m)\n",
    "    cols = random.sample(range(n), m)\n",
    "    for i in range(m):\n",
    "            matrix[rows[i],cols[i]] = random.randrange(100)\n",
    "    return matrix\n",
    "print(sparse_matrix(10, 10))"
   ]
  },
  {
   "cell_type": "code",
   "execution_count": 1462,
   "metadata": {},
   "outputs": [
    {
     "data": {
      "text/plain": [
       "Text(0, 0.5, 'runtime (sec)')"
      ]
     },
     "execution_count": 1462,
     "metadata": {},
     "output_type": "execute_result"
    },
    {
     "data": {
      "image/png": "[encoded data removed]",
      "text/plain": [
       "<Figure size 432x288 with 1 Axes>"
      ]
     },
     "metadata": {
      "needs_background": "light"
     },
     "output_type": "display_data"
    },
    {
     "data": {
      "image/png": "[encoded data removed]",
      "text/plain": [
       "<Figure size 432x288 with 1 Axes>"
      ]
     },
     "metadata": {
      "needs_background": "light"
     },
     "output_type": "display_data"
    }
   ],
   "source": [
    "nodes = 500\n",
    "m = np.linspace(100,nodes,10)\n",
    "scipy = np.zeros((len(m), 2))\n",
    "alap = np.zeros((len(m), 2))\n",
    "reps = 5\n",
    "for i, ne in enumerate(m):\n",
    "    for j in range(reps):\n",
    "        A = sparse_matrix(nodes, ne)\n",
    "        start = time.time()\n",
    "        M = linear_sum_assignment(-A)\n",
    "        end = time.time()\n",
    "        scipy[i,0] = scipy[i,0] + (end-start)\n",
    "        scipy[i,1] = scipy[i,1] + A[M].sum()\n",
    "\n",
    "        start = time.time()\n",
    "        M = parallel(A)\n",
    "        end = time.time()\n",
    "        alap[i,0] = alap[i,0] + (end-start)\n",
    "        alap[i,1] = alap[i,1] + A[M].sum()\n",
    "    \n",
    "    scipy[i,0] = scipy[i,0]/reps\n",
    "    alap[i,0] = alap[i,0]/reps\n",
    "    #print(i)\n",
    "plt.plot(m, scipy[:,0])\n",
    "plt.xlabel('edges')\n",
    "plt.ylabel('runtime (sec)')\n",
    "plt.title('Scipy')\n",
    "figure()\n",
    "plt.plot(m, alap[:,0])\n",
    "plt.title('aLAP parallel')\n",
    "plt.xlabel('edges')\n",
    "plt.ylabel('runtime (sec)')"
   ]
  },
  {
   "cell_type": "code",
   "execution_count": 1452,
   "metadata": {},
   "outputs": [
    {
     "data": {
      "text/plain": [
       "Text(0.5, 1.0, 'aLAP parallel')"
      ]
     },
     "execution_count": 1452,
     "metadata": {},
     "output_type": "execute_result"
    },
    {
     "data": {
      "image/png": "[encoded data removed]",
      "text/plain": [
       "<Figure size 432x288 with 1 Axes>"
      ]
     },
     "metadata": {
      "needs_background": "light"
     },
     "output_type": "display_data"
    }
   ],
   "source": [
    "score_ratio = [alap[i,1]/scipy[i,1] for i in range(len(n))]\n",
    "plt.plot(n,score_ratio)\n",
    "plt.xlabel('nodes')\n",
    "plt.ylabel('Score Ratio (aLAP/scipy)')\n",
    "plt.title('aLAP parallel')"
   ]
  },
  {
   "cell_type": "markdown",
   "metadata": {},
   "source": [
    "# TESTING"
   ]
  },
  {
   "cell_type": "code",
   "execution_count": 1267,
   "metadata": {},
   "outputs": [],
   "source": [
    "import numpy as np\n",
    "import operator\n",
    "from scipy.optimize import linear_sum_assignment, minimize_scalar, OptimizeResult\n",
    "\n",
    "\n",
    "def quadratic_assignment_aLAP(\n",
    "    cost_matrix,\n",
    "    dist_matrix,\n",
    "    seed=None,\n",
    "    maximize=False,\n",
    "    n_init=1,\n",
    "    init=\"barycenter\",\n",
    "    maxiter=30,\n",
    "    shuffle_input=True,\n",
    "    eps=0.01,\n",
    "):\n",
    "    r\"\"\"\n",
    "    Solve the quadratic assignment problem.\n",
    "\n",
    "    This function solves the Quadratic Assignment Problem (QAP) and the\n",
    "    Graph Matching Problem through an implementation of the Fast\n",
    "    Approximate QAP Algorithm (FAQ) (these two problems are the same up\n",
    "    to a sign change) [1]_.\n",
    "\n",
    "    Quadratic Assignment solves problems of the following form:\n",
    "\n",
    "    .. math::\n",
    "\n",
    "        \\min_P & \\ {\\ \\text{trace}(APB^T P^T)}\\\\\n",
    "        \\mbox{s.t. } & {P \\ \\epsilon \\ \\mathcal{P}}\\\\\n",
    "\n",
    "    where :math:`\\mathcal{P}` is the set of all permutation matrices,\n",
    "    and :math:`A` and :math:`B` are adjacency matrices.\n",
    "\n",
    "    This algorithm can be thought of as finding an alignment of the\n",
    "    vertices of two graphs which minimizes the number of induced edge\n",
    "    disagreements, or, in the case of weighted graphs, the sum of squared\n",
    "    differences of edge weight disagreements. The option to add seeds\n",
    "    (known vertex correspondence between some nodes) is also available\n",
    "    [2]_.\n",
    "\n",
    "    Note that the quadratic assignment problem is NP-hard, is not\n",
    "    known to be solvable in polynomial time, and is computationally\n",
    "    intractable. Therefore, the results given are approximations,\n",
    "    not guaranteed to be exact solutions.\n",
    "\n",
    "\n",
    "    Parameters\n",
    "    ----------\n",
    "    cost_matrix : 2d-array, square, non-negative\n",
    "        A square adjacency matrix. In this implementation, :math:`A` =\n",
    "        `cost-matrix` in the objective function above.\n",
    "\n",
    "    dist_matrix : 2d-array, square, non-negative\n",
    "        A square adjacency matrix.  In this implementation, :math:`B` =\n",
    "        `dist-matrix` in the objective function above.\n",
    "\n",
    "    seed : 2d-array, optional, (default = None)\n",
    "        Allows the user apply a seed, fixing part of the matching between\n",
    "        the two adjacency matrices.\n",
    "        For column 1, each entry is an index of a node in `cost_matrix`.\n",
    "        For column 2, each entry is an index of a node in `dist_matrix`.\n",
    "        The elements of ``seed[:, 0]`` and ``seed[:, 1]`` are vertices\n",
    "        which are known to be matched, that is, ``seed[i, 0]`` is matched to\n",
    "        vertex ``seed[i, 1]``. Array shape ``(m , 2)`` where ``m <= number of\n",
    "        nodes``.\n",
    "\n",
    "    maximize : bool (default = False)\n",
    "        Gives users the option to solve the Graph Matching Problem (GMP)\n",
    "        rather than QAP. This is accomplished through trivial negation\n",
    "        of the objective function.\n",
    "\n",
    "\n",
    "    options : dict, optional\n",
    "        A dictionary of solver options. All methods accept the following\n",
    "        options:\n",
    "\n",
    "            n_init : int, positive (default = 1)\n",
    "                Number of random initializations of the starting\n",
    "                permutation matrix that the FAQ algorithm will undergo.\n",
    "            init : string (default = 'barycenter') or 2d-array\n",
    "                The algorithm may be sensitive to the initial permutation\n",
    "                matrix (or search position) chosen due to the possibility\n",
    "                of several local minima within the feasible region.\n",
    "                With only 1 initialization, a barycenter init will\n",
    "                likely return a more accurate permutation.\n",
    "\n",
    "                Choosing several random initializations as opposed to\n",
    "                the non-informative barycenter will likely result in a\n",
    "                more accurate result at the cost of higher runtime.\n",
    "\n",
    "                The initial position chosen:\n",
    "\n",
    "                \"barycenter\" : the non-informative \"flat doubly stochastic\n",
    "                matrix,\" :math:`J=1*1^T /n` , i.e the barycenter of the\n",
    "                feasible region (where :math:`n` is the number of nodes and\n",
    "                :math:`1` is a ``(n, 1)`` array of ones).\n",
    "\n",
    "                \"rand\" : some random point near :math:`J`, defined as\n",
    "                :math:`(J+K)/2`, where :math:`K` is some random doubly\n",
    "                stochastic matrix.\n",
    "\n",
    "                If an ndarray is passed, it should have the same shape as\n",
    "                `cost_matrix` and `dist_matrix`, and its rows and columns\n",
    "                must sum to 1 (doubly stochastic).\n",
    "            maxiter : int, positive (default = 30)\n",
    "                Integer specifying the max number of Franke-Wolfe iterations.\n",
    "                FAQ typically converges with modest number of iterations.\n",
    "            shuffle_input : bool (default = True)\n",
    "                To avoid artificially high or low matching due to inherent\n",
    "                sorting of input adjacency matrices, gives users the option\n",
    "                to shuffle the nodes of `cost_matrix`. Results are then\n",
    "                unshuffled so that returned `col_ind` matches the node order\n",
    "                of inputs.\n",
    "            eps : float (default = 0.05)\n",
    "                A positive, threshold stopping criteria such that Franke-\n",
    "                Wolfe continues to iterate while Frobenius norm of\n",
    "                :math:`(P_{i}-P_{i+1}) > eps`, where :math:`i` is the\n",
    "                iteration number.\n",
    "\n",
    "    Returns\n",
    "    -------\n",
    "    res : OptimizeResult\n",
    "        A :class:`scipy.optimize.OptimizeResult` consisting of the fields:\n",
    "\n",
    "            col_ind : 1-D array\n",
    "                An array of column indices corresponding to the optimal\n",
    "                permutation (with the fixed seeds given) of the\n",
    "                nodes of `dist_matrix`, to best minimize the objective\n",
    "                function.\n",
    "            score : float\n",
    "                The optimal value of the objective function.\n",
    "            nit : int\n",
    "                The total number of Franke-Wolfe iterations performed during\n",
    "                optimization.\n",
    "\n",
    "    References\n",
    "    ----------\n",
    "    .. [1] J.T. Vogelstein, J.M. Conroy, V. Lyzinski, L.J. Podrazik,\n",
    "           S.G. Kratzer, E.T. Harley, D.E. Fishkind, R.J. Vogelstein, and\n",
    "           C.E. Priebe, \"Fast approximate quadratic programming for graph\n",
    "           matching,\" PLOS one, vol. 10, no. 4, p. e0121002, 2015.\n",
    "\n",
    "    .. [2] D. Fishkind, S. Adali, H. Patsolic, L. Meng, D. Singh, V. Lyzinski,\n",
    "           C. Priebe, \"Seeded graph matching\", Pattern Recognit. 87 (2019):\n",
    "           203-215.\n",
    "\n",
    "    Examples\n",
    "    --------\n",
    "\n",
    "    >>> cost = np.array([[0, 80, 150, 170], [80, 0, 130, 100],\n",
    "    ...         [150, 130, 0, 120], [170, 100, 120, 0]])\n",
    "    >>> dist = np.array([[0, 5, 2, 7], [0, 0, 3, 8],\n",
    "    ...         [0, 0, 0, 3], [0, 0, 0, 0]])\n",
    "    >>> from scipy.optimize import quadratic_assignment\n",
    "    >>> res = quadratic_assignment(cost, dist)\n",
    "    >>> print(res)\n",
    "     col_ind: array([0, 3, 2, 1])\n",
    "         nit: 9\n",
    "       score: 3260\n",
    "\n",
    "    To demonstrate explicitly how the `score` value\n",
    "    :math:`f(P) = trace(A^T PBP^T )` is calculated, one may construct the\n",
    "    permutation matrix, and perform the necessary algebra.\n",
    "\n",
    "    >>> n = cost.shape[0]\n",
    "    >>> P = np.zeros((n, n))\n",
    "    >>> P[np.arange(n), res['col_ind']] = 1\n",
    "    >>> score = int(np.trace(cost.T @ P @ dist @ P.T))\n",
    "    >>> print(score)\n",
    "    3260\n",
    "\n",
    "    As you can see, the value here matches res['score'] reported above.\n",
    "    Alternatively, to avoid constructing the permutation matrix, one can also\n",
    "    perform the following calculation.\n",
    "\n",
    "    >>> score = np.trace(cost.T @ dist[np.ix_(res['col_ind'], res['col_ind'])])\n",
    "    >>> print(score)\n",
    "    3260\n",
    "\n",
    "    Here, we are simply permuting the distance matrix.\n",
    "\n",
    "    \"\"\"\n",
    "\n",
    "    cost_matrix = np.asarray(cost_matrix)\n",
    "    dist_matrix = np.asarray(dist_matrix)\n",
    "\n",
    "    if seed is None:\n",
    "        seed = np.array([[], []]).T\n",
    "    seed = np.asarray(seed)\n",
    "    n_init = operator.index(n_init)\n",
    "    maxiter = operator.index(maxiter)\n",
    "\n",
    "    # ValueError check\n",
    "    msg = None\n",
    "    if cost_matrix.shape[0] != cost_matrix.shape[1]:\n",
    "        msg = \"'cost_matrix' must be square\"\n",
    "    elif dist_matrix.shape[0] != dist_matrix.shape[1]:\n",
    "        msg = \"'dist_matrix' must be square\"\n",
    "    elif cost_matrix.shape != dist_matrix.shape:\n",
    "        msg = \"Adjacency matrices must be of equal size\"\n",
    "    elif (cost_matrix < 0).any() or (dist_matrix < 0).any():\n",
    "        msg = \"Adjacency matrix contains negative entries\"\n",
    "    elif seed.shape[0] > cost_matrix.shape[0]:\n",
    "        msg = \"There cannot be more seeds than there are nodes\"\n",
    "    elif seed.shape[1] != 2:\n",
    "        msg = \"Seed array entry must have two columns\"\n",
    "    elif (seed < 0).any():\n",
    "        msg = \"Seed array contains negative entries\"\n",
    "    elif (seed >= len(cost_matrix)).any():\n",
    "        msg = \"Seed array entries must be less than the number of nodes\"\n",
    "    elif not len(set(seed[:, 0])) == len(seed[:, 0]) or not \\\n",
    "            len(set(seed[:, 1])) == len(seed[:, 1]):\n",
    "        msg = \"Seed column entries must be unique\"\n",
    "    elif isinstance(init, str) and init not in {'barycenter', 'rand'}:\n",
    "        msg = \"Invalid 'init_method' parameter string\"\n",
    "    elif n_init <= 0:\n",
    "        msg = \"'n_init' must be a positive integer\"\n",
    "    elif maxiter <= 0:\n",
    "        msg = \"'maxiter' must be a positive integer\"\n",
    "    if msg is not None:\n",
    "        raise ValueError(msg)\n",
    "\n",
    "    # TypeError check\n",
    "    if type(shuffle_input) is not bool:\n",
    "        msg = \"'shuffle_input' must be a boolean\"\n",
    "    elif eps <= 0 or type(eps) is not float:\n",
    "        msg = \"'eps' must be a positive float\"\n",
    "    elif type(maximize) is not bool:\n",
    "        msg = \"'maximize' must be a boolean\"\n",
    "    if msg is not None:\n",
    "        raise TypeError(msg)\n",
    "\n",
    "    rng = np.random.RandomState()\n",
    "    n = cost_matrix.shape[0]  # number of vertices in graphs\n",
    "    n_seeds = seed.shape[0]  # number of seeds\n",
    "    n_unseed = n - n_seeds\n",
    "\n",
    "    perm_inds = np.zeros(n)\n",
    "\n",
    "    obj_func_scalar = 1\n",
    "    if maximize:\n",
    "        obj_func_scalar = -1\n",
    "    score = obj_func_scalar * np.inf\n",
    "\n",
    "    seed_dist_c = np.setdiff1d(range(n), seed[:, 1])\n",
    "    if shuffle_input:\n",
    "        seed_dist_c = rng.permutation(seed_dist_c)\n",
    "        # shuffle_input to avoid results from inputs that were already matched\n",
    "\n",
    "    seed_cost_c = np.setdiff1d(range(n), seed[:, 0])\n",
    "    permutation_cost = np.concatenate([seed[:, 0],\n",
    "                                       seed_cost_c], axis=None).astype(int)\n",
    "    permutation_dist = np.concatenate([seed[:, 1],\n",
    "                                       seed_dist_c], axis=None).astype(int)\n",
    "    cost_matrix = cost_matrix[np.ix_(permutation_cost, permutation_cost)]\n",
    "    dist_matrix = dist_matrix[np.ix_(permutation_dist, permutation_dist)]\n",
    "\n",
    "    # definitions according to Seeded Graph Matching [2].\n",
    "    A11 = cost_matrix[:n_seeds, :n_seeds]\n",
    "    A12 = cost_matrix[:n_seeds, n_seeds:]\n",
    "    A21 = cost_matrix[n_seeds:, :n_seeds]\n",
    "    A22 = cost_matrix[n_seeds:, n_seeds:]\n",
    "    B11 = dist_matrix[:n_seeds, :n_seeds]\n",
    "    B12 = dist_matrix[:n_seeds, n_seeds:]\n",
    "    B21 = dist_matrix[n_seeds:, :n_seeds]\n",
    "    B22 = dist_matrix[n_seeds:, n_seeds:]\n",
    "\n",
    "    for i in range(n_init):\n",
    "        # setting initialization matrix\n",
    "        if isinstance(init, str) and init == \"rand\":\n",
    "            # generate a nxn matrix where each entry is a random integer [0, 1]\n",
    "            K = rng.rand(n_unseed, n_unseed)\n",
    "            # perform 10 iterations of Sinkhorn balancing\n",
    "            for i in range(10):\n",
    "                K = _doubly_stochastic(K)\n",
    "            # initialize J, a doubly stochastic barycenter\n",
    "            J = np.ones((n_unseed, n_unseed)) / float(n_unseed)\n",
    "            P = (K + J) / 2\n",
    "        elif isinstance(init, str) and init == \"barycenter\":\n",
    "            P = np.ones((n_unseed, n_unseed)) / float(n_unseed)\n",
    "        else:\n",
    "            _check_init_input(init, n)\n",
    "            P = init\n",
    "        const_sum = A21 @ B21.T + A12.T @ B12\n",
    "        grad_P = np.inf  # gradient of P\n",
    "        n_iter = 0  # number of FW iterations\n",
    "\n",
    "        # OPTIMIZATION WHILE LOOP BEGINS\n",
    "        while grad_P > eps and n_iter < maxiter:\n",
    "            #print(n_iter)\n",
    "            # computing the gradient of f(P) = -tr(APB^tP^t)\n",
    "            delta_f = (const_sum + A22 @ P @ B22.T + A22.T @ P @ B22)\n",
    "            # run hungarian algorithm on gradient(f(P))\n",
    "            rows, cols = parallel(delta_f, maximize)\n",
    "            Q = np.zeros((n_unseed, n_unseed))\n",
    "            Q[rows, cols] = 1  # initialize search direction matrix Q\n",
    "\n",
    "            def f(x):  # computing the original optimization function\n",
    "                return obj_func_scalar * (\n",
    "                    np.trace(A11.T @ B11)\n",
    "                    + np.trace(np.transpose(x * P + (1 - x) * Q) @ A21 @ B21.T)\n",
    "                    + np.trace(np.transpose(x * P + (1 - x) * Q) @ A12.T @ B12)\n",
    "                    + np.trace(\n",
    "                        A22.T\n",
    "                        @ (x * P + (1 - x) * Q)\n",
    "                        @ B22\n",
    "                        @ np.transpose(x * P + (1 - x) * Q)\n",
    "                    )\n",
    "                )\n",
    "\n",
    "            alpha = minimize_scalar(\n",
    "                f, bounds=(0, 1), method=\"bounded\"\n",
    "            ).x  # computing the step size\n",
    "            P_i1 = alpha * P + (1 - alpha) * Q  # Update P\n",
    "            grad_P = np.linalg.norm(P - P_i1)\n",
    "            P = P_i1\n",
    "            n_iter += 1\n",
    "        # end of FW optimization loop\n",
    "\n",
    "        row, col = linear_sum_assignment(\n",
    "            -P\n",
    "        )  # Project onto the set of permutation matrices\n",
    "        perm_inds_new = np.concatenate(\n",
    "            (np.arange(n_seeds), np.array([x + n_seeds for x in col]))\n",
    "        ).astype(int)\n",
    "\n",
    "        score_new = np.trace(\n",
    "            np.transpose(cost_matrix)\n",
    "            @ dist_matrix[np.ix_(perm_inds_new, perm_inds_new)]\n",
    "        )  # computing objective function value\n",
    "\n",
    "        if obj_func_scalar * score_new < obj_func_scalar * score:  # minimizing\n",
    "            score = score_new\n",
    "            perm_inds = np.zeros(n, dtype=int)\n",
    "            perm_inds[permutation_cost] = permutation_dist[perm_inds_new]\n",
    "\n",
    "    permutation_cost_inv = np.argsort(permutation_cost)\n",
    "    cost_matrix = cost_matrix[\n",
    "        np.ix_(permutation_cost_inv, permutation_cost_inv)\n",
    "    ]\n",
    "    permutation_dist_inv = np.argsort(permutation_dist)\n",
    "    dist_matrix = dist_matrix[\n",
    "        np.ix_(permutation_dist_inv, permutation_dist_inv)\n",
    "    ]\n",
    "\n",
    "    score = np.trace(\n",
    "        np.transpose(cost_matrix) @ dist_matrix[np.ix_(perm_inds, perm_inds)]\n",
    "    )\n",
    "\n",
    "    res = {\"col_ind\": perm_inds, \"score\": score, \"nit\": n_iter}\n",
    "\n",
    "    return OptimizeResult(res)\n",
    "\n",
    "\n",
    "def _check_init_input(init, n):\n",
    "    row_sum = np.round(np.sum(init, axis=0), decimals=3)\n",
    "    col_sum = np.round(np.sum(init, axis=1), decimals=3)\n",
    "    msg = None\n",
    "    if init.shape != (n, n):\n",
    "        msg = \"`init` matrix must have same shape as A and B\"\n",
    "    elif (row_sum != 1.).any() or (col_sum != 1.).any() or (init < 0).any():\n",
    "        msg = \"`init` matrix must be doubly stochastic\"\n",
    "    if msg is not None:\n",
    "        raise ValueError(msg)\n"
   ]
  },
  {
   "cell_type": "code",
   "execution_count": 438,
   "metadata": {},
   "outputs": [
    {
     "name": "stderr",
     "output_type": "stream",
     "text": [
      "/Users/asaadeldin/anaconda3/lib/python3.7/site-packages/sklearn/utils/deprecation.py:144: FutureWarning: The sklearn.mixture.gaussian_mixture module is  deprecated in version 0.22 and will be removed in version 0.24. The corresponding classes / functions should instead be imported from sklearn.mixture. Anything that cannot be imported from sklearn.mixture is now part of the private API.\n",
      "  warnings.warn(message, FutureWarning)\n"
     ]
    },
    {
     "ename": "NameError",
     "evalue": "name 'match_ratio' is not defined",
     "output_type": "error",
     "traceback": [
      "\u001b[0;31m---------------------------------------------------------------------------\u001b[0m",
      "\u001b[0;31mNameError\u001b[0m                                 Traceback (most recent call last)",
      "\u001b[0;32m<ipython-input-438-a4ca411bf393>\u001b[0m in \u001b[0;36m<module>\u001b[0;34m\u001b[0m\n\u001b[1;32m     21\u001b[0m \u001b[0mres\u001b[0m \u001b[0;34m=\u001b[0m \u001b[0mquadratic_assignment_aLAP\u001b[0m\u001b[0;34m(\u001b[0m\u001b[0mA1\u001b[0m\u001b[0;34m,\u001b[0m \u001b[0mA2_shuffle\u001b[0m\u001b[0;34m,\u001b[0m \u001b[0mmaximize\u001b[0m\u001b[0;34m=\u001b[0m\u001b[0;32mTrue\u001b[0m\u001b[0;34m)\u001b[0m\u001b[0;34m\u001b[0m\u001b[0;34m\u001b[0m\u001b[0m\n\u001b[1;32m     22\u001b[0m \u001b[0mend\u001b[0m \u001b[0;34m=\u001b[0m \u001b[0mtime\u001b[0m\u001b[0;34m.\u001b[0m\u001b[0mtime\u001b[0m\u001b[0;34m(\u001b[0m\u001b[0;34m)\u001b[0m\u001b[0;34m\u001b[0m\u001b[0;34m\u001b[0m\u001b[0m\n\u001b[0;32m---> 23\u001b[0;31m \u001b[0mratio\u001b[0m \u001b[0;34m=\u001b[0m \u001b[0mmatch_ratio\u001b[0m\u001b[0;34m(\u001b[0m\u001b[0mres\u001b[0m\u001b[0;34m[\u001b[0m\u001b[0;34m'col_ind'\u001b[0m\u001b[0;34m]\u001b[0m\u001b[0;34m,\u001b[0m\u001b[0mnode_unshuffle_input\u001b[0m\u001b[0;34m)\u001b[0m\u001b[0;34m\u001b[0m\u001b[0;34m\u001b[0m\u001b[0m\n\u001b[0m\u001b[1;32m     24\u001b[0m \u001b[0;34m\u001b[0m\u001b[0m\n",
      "\u001b[0;31mNameError\u001b[0m: name 'match_ratio' is not defined"
     ]
    }
   ],
   "source": [
    "from graspy.simulations import sbm_corr\n",
    "n = 90\n",
    "rho = 1.0\n",
    "ratio = 0\n",
    "n_per_block = 30\n",
    "n_blocks = 3\n",
    "block_members = np.array(n_blocks * [n_per_block])\n",
    "block_probs = np.array([[0.7, 0.3, 0.4], [0.3, 0.7, 0.3], [0.4, 0.3, 0.7]])\n",
    "directed = False\n",
    "loops = False\n",
    "n_realizations = 100\n",
    "A1, A2 = sbm_corr(\n",
    "                block_members, block_probs, rho, directed=directed, loops=loops\n",
    "            )\n",
    "node_shuffle_input = np.random.permutation(n)\n",
    "A2_shuffle = A2[np.ix_(node_shuffle_input, node_shuffle_input)]\n",
    "node_unshuffle_input = np.array(range(n))\n",
    "node_unshuffle_input[node_shuffle_input] = np.array(range(n))\n",
    "\n",
    "start = time.time()\n",
    "res = quadratic_assignment_aLAP(A1, A2_shuffle, maximize=True)\n",
    "end = time.time()\n",
    "ratio = match_ratio(res['col_ind'],node_unshuffle_input)\n",
    "\n"
   ]
  },
  {
   "cell_type": "code",
   "execution_count": 54,
   "metadata": {},
   "outputs": [],
   "source": [
    "def match_ratio(v, w):\n",
    "    return 1 - (np.count_nonzero(v - w) / n)"
   ]
  },
  {
   "cell_type": "code",
   "execution_count": 328,
   "metadata": {},
   "outputs": [
    {
     "data": {
      "text/plain": [
       "1770.0"
      ]
     },
     "execution_count": 328,
     "metadata": {},
     "output_type": "execute_result"
    }
   ],
   "source": [
    "ratio\n",
    "res['score']"
   ]
  },
  {
   "cell_type": "code",
   "execution_count": 459,
   "metadata": {},
   "outputs": [
    {
     "name": "stdout",
     "output_type": "stream",
     "text": [
      "Populating the interactive namespace from numpy and matplotlib\n"
     ]
    },
    {
     "name": "stderr",
     "output_type": "stream",
     "text": [
      "/Users/asaadeldin/anaconda3/lib/python3.7/site-packages/IPython/core/magics/pylab.py:160: UserWarning: pylab import has clobbered these variables: ['ma', 'mat', 'random', 'matrix']\n",
      "`%matplotlib` prevents importing * from pylab and numpy\n",
      "  \"\\n`%matplotlib` prevents importing * from pylab and numpy\"\n"
     ]
    }
   ],
   "source": [
    "%pylab inline\n",
    "import sys\n",
    "sys.path\n",
    "sys.path.insert(0, '/Users/asaadeldin/Downloads/GitHub/scipy')\n",
    "\n"
   ]
  },
  {
   "cell_type": "code",
   "execution_count": 460,
   "metadata": {},
   "outputs": [
    {
     "ename": "ImportError",
     "evalue": "cannot import name 'quadratic_assignment' from 'scipy.optimize' (/Users/asaadeldin/anaconda3/lib/python3.7/site-packages/scipy/optimize/__init__.py)",
     "output_type": "error",
     "traceback": [
      "\u001b[0;31m---------------------------------------------------------------------------\u001b[0m",
      "\u001b[0;31mImportError\u001b[0m                               Traceback (most recent call last)",
      "\u001b[0;32m<ipython-input-460-5b12873ed83a>\u001b[0m in \u001b[0;36m<module>\u001b[0;34m\u001b[0m\n\u001b[0;32m----> 1\u001b[0;31m \u001b[0;32mfrom\u001b[0m \u001b[0mscipy\u001b[0m\u001b[0;34m.\u001b[0m\u001b[0moptimize\u001b[0m \u001b[0;32mimport\u001b[0m \u001b[0mquadratic_assignment\u001b[0m\u001b[0;34m\u001b[0m\u001b[0;34m\u001b[0m\u001b[0m\n\u001b[0m",
      "\u001b[0;31mImportError\u001b[0m: cannot import name 'quadratic_assignment' from 'scipy.optimize' (/Users/asaadeldin/anaconda3/lib/python3.7/site-packages/scipy/optimize/__init__.py)"
     ]
    }
   ],
   "source": [
    "from scipy.optimize import quadratic_assignment"
   ]
  },
  {
   "cell_type": "code",
   "execution_count": 329,
   "metadata": {},
   "outputs": [],
   "source": [
    "from graspy.simulations import sbm_corr\n",
    "n = 90\n",
    "rho = 1.0\n",
    "ratio = 0\n",
    "n_per_block = 30\n",
    "n_blocks = 3\n",
    "block_members = np.array(n_blocks * [n_per_block])\n",
    "block_probs = np.array([[0.7, 0.3, 0.4], [0.3, 0.7, 0.3], [0.4, 0.3, 0.7]])\n",
    "directed = False\n",
    "loops = False\n",
    "n_realizations = 100\n",
    "A1, A2 = sbm_corr(\n",
    "                block_members, block_probs, rho, directed=directed, loops=loops\n",
    "            )\n",
    "node_shuffle_input = np.random.permutation(n)\n",
    "A2_shuffle = A2[np.ix_(node_shuffle_input, node_shuffle_input)]\n",
    "node_unshuffle_input = np.array(range(n))\n",
    "node_unshuffle_input[node_shuffle_input] = np.array(range(n))\n",
    "\n",
    "start = time.time()\n",
    "res = quadratic_assignment(A1, A2_shuffle, maximize=True)\n",
    "end = time.time()\n",
    "ratio = match_ratio(res['col_ind'],node_unshuffle_input)"
   ]
  },
  {
   "cell_type": "code",
   "execution_count": 330,
   "metadata": {},
   "outputs": [
    {
     "data": {
      "text/plain": [
       "3668.0"
      ]
     },
     "execution_count": 330,
     "metadata": {},
     "output_type": "execute_result"
    }
   ],
   "source": [
    "ratio\n",
    "res['score']"
   ]
  },
  {
   "cell_type": "code",
   "execution_count": 30,
   "metadata": {},
   "outputs": [
    {
     "data": {
      "text/plain": [
       "0.3185300827026367"
      ]
     },
     "execution_count": 30,
     "metadata": {},
     "output_type": "execute_result"
    }
   ],
   "source": [
    "end-start"
   ]
  },
  {
   "cell_type": "code",
   "execution_count": 1280,
   "metadata": {},
   "outputs": [
    {
     "name": "stdout",
     "output_type": "stream",
     "text": [
      "2.7894973754882812e-05\n"
     ]
    }
   ],
   "source": [
    "qapprob ='chr12c'\n",
    "A = datafile[qapprob][0]\n",
    "B = datafile[qapprob][1]\n",
    "start = time.time()\n",
    "#print(quadratic_assignment(A,B))\n",
    "end = time.time()\n",
    "print(end-start)"
   ]
  },
  {
   "cell_type": "code",
   "execution_count": 1353,
   "metadata": {},
   "outputs": [
    {
     "name": "stdout",
     "output_type": "stream",
     "text": [
      "0.12138915061950684\n"
     ]
    },
    {
     "data": {
      "text/plain": [
       " col_ind: array([ 3,  1,  5,  4,  2,  0, 10,  7,  9, 11,  6,  8])\n",
       "     nit: 30\n",
       "   score: 51882"
      ]
     },
     "execution_count": 1353,
     "metadata": {},
     "output_type": "execute_result"
    }
   ],
   "source": [
    "start = time.time()\n",
    "res=quadratic_assignment_aLAP(A,B, eps = 0.00001)\n",
    "end = time.time()\n",
    "print(end-start)\n",
    "res"
   ]
  },
  {
   "cell_type": "code",
   "execution_count": 1279,
   "metadata": {},
   "outputs": [
    {
     "data": {
      "text/plain": [
       " col_ind: array([ 2,  8,  4,  1,  0, 11, 10,  7,  9,  5,  6,  3])\n",
       "     nit: 3\n",
       "   score: 42818"
      ]
     },
     "execution_count": 1279,
     "metadata": {},
     "output_type": "execute_result"
    }
   ],
   "source": [
    "res"
   ]
  },
  {
   "cell_type": "code",
   "execution_count": 392,
   "metadata": {},
   "outputs": [],
   "source": [
    "import math\n",
    "qapprob ='chr12a'\n",
    "A = datafile[qapprob][1].astype(float)\n",
    "\n",
    "#A[2,:] = -np.inf\n",
    "#A[:,0] = -np.inf \n",
    "#(A != -np.inf).any()\n",
    "A[2,:] = np.nan\n",
    "#(A == -np.inf).all()\n",
    "#all(A == NaN)"
   ]
  },
  {
   "cell_type": "code",
   "execution_count": 396,
   "metadata": {},
   "outputs": [
    {
     "data": {
      "text/plain": [
       "False"
      ]
     },
     "execution_count": 396,
     "metadata": {},
     "output_type": "execute_result"
    }
   ],
   "source": [
    "np.isnan(A).all()"
   ]
  },
  {
   "cell_type": "code",
   "execution_count": 793,
   "metadata": {},
   "outputs": [
    {
     "data": {
      "text/plain": [
       "3"
      ]
     },
     "execution_count": 793,
     "metadata": {},
     "output_type": "execute_result"
    }
   ],
   "source": [
    "x = [[0],[0,1],[0]]\n",
    "x[0].append(1)\n",
    "x[1].remove(1)\n",
    "len(x)"
   ]
  },
  {
   "cell_type": "code",
   "execution_count": 639,
   "metadata": {},
   "outputs": [
    {
     "data": {
      "text/plain": [
       "(3, 0)"
      ]
     },
     "execution_count": 639,
     "metadata": {},
     "output_type": "execute_result"
    }
   ],
   "source": [
    "x = np.array([[],[],[]])\n",
    "x.shape"
   ]
  },
  {
   "cell_type": "code",
   "execution_count": 947,
   "metadata": {},
   "outputs": [
    {
     "name": "stderr",
     "output_type": "stream",
     "text": [
      "/Users/asaadeldin/anaconda3/lib/python3.7/site-packages/ipykernel_launcher.py:3: DeprecationWarning: elementwise comparison failed; this will raise an error in the future.\n",
      "  This is separate from the ipykernel package so we can avoid doing imports until\n"
     ]
    },
    {
     "data": {
      "text/plain": [
       "False"
      ]
     },
     "execution_count": 947,
     "metadata": {},
     "output_type": "execute_result"
    }
   ],
   "source": [
    "x = np.arange(6)\n",
    "i = np.array([1,3])\n",
    "i in x"
   ]
  },
  {
   "cell_type": "code",
   "execution_count": 1021,
   "metadata": {},
   "outputs": [
    {
     "data": {
      "text/plain": [
       "True"
      ]
     },
     "execution_count": 1021,
     "metadata": {},
     "output_type": "execute_result"
    }
   ],
   "source": [
    "temp = np.arange(6)\n",
    "c = np.array([3,5,4,0,1,2])\n",
    "t = (c[c] == temp)\n",
    "m = np.empty(6) *np.nan\n",
    "m[t] = c[t]\n",
    "z, = np.nonzero(t)\n",
    "np.isnan(m).any()"
   ]
  },
  {
   "cell_type": "code",
   "execution_count": 1050,
   "metadata": {},
   "outputs": [
    {
     "name": "stdout",
     "output_type": "stream",
     "text": [
      "0 ,  0\n",
      "1 ,  1\n",
      "2 ,  2\n",
      "3 ,  3\n",
      "4 ,  4\n",
      "5 ,  5\n"
     ]
    }
   ],
   "source": [
    "x = np.arange(6)\n",
    "for i, j in enumerate(x):\n",
    "    print(i , \", \" , j)\n"
   ]
  },
  {
   "cell_type": "code",
   "execution_count": null,
   "metadata": {},
   "outputs": [],
   "source": [
    "for"
   ]
  }
 ],
 "metadata": {
  "kernelspec": {
   "display_name": "Python 3",
   "language": "python",
   "name": "python3"
  },
  "language_info": {
   "codemirror_mode": {
    "name": "ipython",
    "version": 3
   },
   "file_extension": ".py",
   "mimetype": "text/x-python",
   "name": "python",
   "nbconvert_exporter": "python",
   "pygments_lexer": "ipython3",
   "version": "3.7.3"
  }
 },
 "nbformat": 4,
 "nbformat_minor": 4
}
