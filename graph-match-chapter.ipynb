{
 "cells": [
  {
   "cell_type": "markdown",
   "metadata": {},
   "source": [
    "# Graph Matching Chapter"
   ]
  },
  {
   "cell_type": "markdown",
   "metadata": {},
   "source": [
    "## What is graph matching?"
   ]
  },
  {
   "cell_type": "markdown",
   "metadata": {},
   "source": [
    "### define what an isomorphism is, then show it\n",
    "### FIGURE: show two (small) isomorphic graphs, where it's easy to see how they're \"unshuffled\", and unshuffle them \n",
    "#### \"this is the idea behind graph matching\"\n"
   ]
  },
  {
   "cell_type": "markdown",
   "metadata": {},
   "source": [
    "### FIGURE: show two slightly larger isomorphic graph's, where it's not very easy to see how they're unshuffled, but you do show them how it's unshuffled\n",
    "\n",
    "#### \"as the dimensionality of your graphs becomes larger, it becomes harder to find the isomorphism by inspection\""
   ]
  },
  {
   "cell_type": "markdown",
   "metadata": {},
   "source": [
    "## Graph matching algorithm"
   ]
  },
  {
   "cell_type": "markdown",
   "metadata": {},
   "source": [
    "### introduce the rational behind the permutation matrix, define it, (FIGURE) show that PA permutes rows, AP permutes cols\n",
    "\n",
    "### MATH: introduce the gm optimization problem, and the qap optimization problem, and how gm is just negation of qap\n",
    "\n",
    "### show how the matrix multiplication works when A, B are aligned\n",
    "\n",
    "### show how when you throw in a random P, the objective function value is smaller (aligning the 1s and 0s in the adjacency matrix)\n",
    "\n",
    "### convex relaxation, projecting onto the set of the permutation matrices (show why permutation matrices aren't convex?)"
   ]
  },
  {
   "cell_type": "markdown",
   "metadata": {},
   "source": [
    "## Case study BIO\n",
    "\n",
    "### Maggot data GM"
   ]
  },
  {
   "cell_type": "markdown",
   "metadata": {},
   "source": [
    "## Case study MSR\n",
    "\n",
    "### ??"
   ]
  },
  {
   "cell_type": "code",
   "execution_count": null,
   "metadata": {},
   "outputs": [],
   "source": []
  }
 ],
 "metadata": {
  "kernelspec": {
   "display_name": "Python 3",
   "language": "python",
   "name": "python3"
  },
  "language_info": {
   "codemirror_mode": {
    "name": "ipython",
    "version": 3
   },
   "file_extension": ".py",
   "mimetype": "text/x-python",
   "name": "python",
   "nbconvert_exporter": "python",
   "pygments_lexer": "ipython3",
   "version": "3.8.6"
  }
 },
 "nbformat": 4,
 "nbformat_minor": 4
}
