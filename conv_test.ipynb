{
 "cells": [
  {
   "cell_type": "code",
   "execution_count": 102,
   "metadata": {},
   "outputs": [
    {
     "name": "stdout",
     "output_type": "stream",
     "text": [
      "Populating the interactive namespace from numpy and matplotlib\n"
     ]
    },
    {
     "name": "stderr",
     "output_type": "stream",
     "text": [
      "/Users/asaadeldin/anaconda3/lib/python3.7/site-packages/IPython/core/magics/pylab.py:160: UserWarning: pylab import has clobbered these variables: ['mat']\n",
      "`%matplotlib` prevents importing * from pylab and numpy\n",
      "  \"\\n`%matplotlib` prevents importing * from pylab and numpy\"\n"
     ]
    }
   ],
   "source": [
    "%pylab inline\n",
    "import sys\n",
    "sys.path\n",
    "sys.path.insert(0, '/Users/asaadeldin/Downloads/GitHub/scipy')\n",
    "\n",
    "from scipy.optimize import linear_sum_assignment\n",
    "from scipy.optimize import minimize_scalar\n",
    "from sklearn.utils import check_array\n",
    "from sklearn.utils import column_or_1d"
   ]
  },
  {
   "cell_type": "code",
   "execution_count": 103,
   "metadata": {},
   "outputs": [],
   "source": [
    "from scipy.optimize import quadratic_assignment"
   ]
  },
  {
   "cell_type": "code",
   "execution_count": 3,
   "metadata": {},
   "outputs": [],
   "source": [
    "def convex_approx(A, B, seeds_A=[], seeds_B=[], maximize = False):\n",
    "        if not maximize:\n",
    "            A=-A\n",
    "        A = check_array(A, copy=True, ensure_2d=True)\n",
    "        B = check_array(B, copy=True, ensure_2d=True)\n",
    "        seeds_A = column_or_1d(seeds_A)\n",
    "        seeds_B = column_or_1d(seeds_B)\n",
    "        \n",
    "        n = A.shape[0]  # number of vertices in graphs\n",
    "        n_seeds = seeds_A.shape[0]  # number of seeds\n",
    "        n_unseed = n - n_seeds\n",
    "\n",
    "        obj_func_scalar = 1\n",
    "        #if self.gmp:\n",
    "            #obj_func_scalar = -1\n",
    "\n",
    "        A12 = A[:n_seeds, n_seeds:]\n",
    "        A21 = A[n_seeds:, :n_seeds]\n",
    "        A22 = A[n_seeds:, n_seeds:]\n",
    "\n",
    "        B12 = B[:n_seeds, n_seeds:]\n",
    "        B21 = B[n_seeds:, :n_seeds]\n",
    "        B22 = B[n_seeds:, n_seeds:]\n",
    "        \n",
    "        AtA = np.transpose(np.concatenate((A12,A22),axis=0)) @ np.concatenate((A12,A22),axis=0)\n",
    "        BBt = np.concatenate((B21,B22),axis=1) @ np.transpose(np.concatenate((B21,B22),axis=1))\n",
    "\n",
    "        AB21_12 = A21 @ np.transpose(B21) + np.transpose(A12) @ B12\n",
    "        P = np.ones((n_unseed, n_unseed)) / float(n_unseed)\n",
    "        \n",
    "        grad_P = math.inf  # gradient of P\n",
    "        n_iter = 0\n",
    "            \n",
    "        #while grad_P > self.eps and n_iter < self.max_iter:\n",
    "        while n_iter<100:\n",
    "            delta_f = (AtA @ P + P @ BBt - AB21_12 - np.transpose(A22) @ P @ B22 - A22 @ P @ B22) #if janky check this\n",
    "            rows, cols = linear_sum_assignment(-obj_func_scalar * delta_f)\n",
    "\n",
    "            Q = np.zeros((n_unseed, n_unseed))\n",
    "            Q[rows, cols] = 1 \n",
    "\n",
    "            C22 = (A22 @ (P-Q)) - ((P-Q) @ B22)\n",
    "            D22 = (A22 @ Q) - (Q @ B22)\n",
    "\n",
    "            if (n_seeds > 0):\n",
    "                C21 = -(P-Q) @ B21\n",
    "                C12 = A12 @ (P-Q)\n",
    "\n",
    "                D21 = A21 - Q @ B21\n",
    "                D12 = A12 @ Q - B12\n",
    "            else:\n",
    "                C21, C12, D21, D12 = 0,0,0,0\n",
    "\n",
    "            aq = np.sum(np.multiply(C22,C22)) + np.sum(np.multiply(C21,C21)) + np.sum(np.multiply(C12,C12)) #if janky check this\n",
    "            bq = np.sum(np.multiply(C22, D22)) + np.sum(np.multiply(C21, D21)) + np.sum(np.multiply(C12, D12))\n",
    "            \n",
    "\n",
    "            if aq == 0:\n",
    "                alpha = 0\n",
    "            else:\n",
    "                alpha = -bq/aq\n",
    "\n",
    "            P_i1 = alpha*P + (1-alpha)*Q\n",
    "            f_new = np.sum(np.multiply(A22 @ P_i1 - P_i1 @ B22,A22 @ P_i1 - P_i1 @ B22))\n",
    "            grad_P = np.linalg.norm(P - P_i1)\n",
    "            P = P_i1\n",
    "            n_iter += 1\n",
    "\n",
    "        row, col = linear_sum_assignment(-P)\n",
    "        P_f = np.zeros((n_unseed, n_unseed))\n",
    "        P_f[rows, cols] = 1 \n",
    "        return P_f\n"
   ]
  },
  {
   "cell_type": "code",
   "execution_count": 47,
   "metadata": {},
   "outputs": [],
   "source": [
    "qapprob = [\"chr12c\",\"chr15a\",\"chr15c\",\"chr20b\",\"chr22b\",\"esc16b\",\n",
    "          \"rou12\",\"rou15\",\"rou20\",\"tai12a\",\"tai15a\",\"tai17a\",\"tai20a\",\n",
    "          \"tai30a\",\"tai35a\",\"tai40a\"]\n",
    "qapprob = [\"bur26a\", \"bur26b\", \"bur26c\", \"bur26d\", \"bur26e\", \"bur26f\",\n",
    "              \"bur26g\", \"bur26h\", \"chr12a\", \"chr12b\", \"chr12c\", \"chr15a\",\n",
    "              \"chr15b\", \"chr15c\", \"chr18a\", \"chr18b\", \"chr20a\", \"chr20b\",\n",
    "              \"chr20c\", \"chr22a\", \"chr22b\", \"chr25a\",\n",
    "              \"els19\",\n",
    "              \"esc16a\", \"esc16b\", \"esc16c\", \"esc16d\", \"esc16e\", \"esc16g\",\n",
    "              \"esc16h\", \"esc16i\", \"esc16j\", \"esc32g\", \"esc128\",\n",
    "              \"had12\", \"had14\", \"had16\", \"had18\", \"had20\", \"kra30a\",\n",
    "              \"kra30b\", \"kra32\",\n",
    "              \"lipa20a\", \"lipa20b\", \"lipa30a\", \"lipa30b\", \"lipa40a\", \"lipa40b\",\n",
    "              \"lipa50a\", \"lipa50b\", \"lipa60a\", \"lipa60b\", \"lipa70a\", \"lipa70b\",\n",
    "              \"lipa80a\", \"lipa90a\", \"lipa90b\",\n",
    "              \"nug12\", \"nug14\", \"nug16a\", \"nug16b\", \"nug17\", \"nug18\", \"nug20\",\n",
    "              \"nug21\", \"nug22\", \"nug24\", \"nug25\", \"nug27\", \"nug28\", \"nug30\",\n",
    "              \"rou12\", \"rou15\", \"rou20\",\n",
    "              \"scr12\", \"scr15\", \"scr20\",\n",
    "              \"sko42\", \"sko49\", \"sko56\", \"sko64\", \"sko72\", \"sko81\", \"sko90\",\n",
    "              \"sko100a\", \"sko100b\", \"sko100c\", \"sko100d\", \"sko100e\", \"sko100f\",\n",
    "              \"ste36b\", \"ste36c\",\n",
    "              \"tai12a\", \"tai12b\", \"tai15a\", \"tai15b\", \"tai17a\", \"tai20a\",\n",
    "              \"tai20b\", \"tai25a\", \"tai25b\", \"tai30a\", \"tai30b\", \"tai35a\",\n",
    "              \"tai40a\", \"tai40b\", \"tai50a\", \"tai50b\", \"tai60a\", \"tai60b\",\n",
    "              \"tai64c\", \"tai80a\", \"tai100a\", \"tai100b\", \"tai150b\", \"tai256c\",\n",
    "              \"tho30\", \"tho40\", \"tho150\", \"wil50\", \"wil100\"]\n",
    "\n",
    "slnfile = np.load(\"qap_sols.npz\",allow_pickle=True)\n",
    "datafile = np.load(\"qap_probs.npz\",allow_pickle=True)\n",
    "n_qap = len(qapprob)\n",
    "convex_scores = np.zeros(n_qap)\n",
    "bari_scores = np.zeros(n_qap)\n",
    "den = 1\n",
    "for i in range(n_qap):\n",
    "    c_min = [0]*den\n",
    "    b_min = [0]*den\n",
    "    u_min = [0]*den\n",
    "    for k in range(den):\n",
    "        A = datafile[qapprob[i]][0]\n",
    "        B = datafile[qapprob[i]][1]\n",
    "        n = A.shape[0]\n",
    "        res = quadratic_assignment(A,B, init = convex_approx(A,B))\n",
    "        c_min[k] = res['score']\n",
    "\n",
    "        res = quadratic_assignment(A,B)\n",
    "        b_min[k] = res['score']\n",
    "        \n",
    "        \n",
    "    convex_scores[i] = min(c_min)\n",
    "    bari_scores[i] = min(b_min)\n",
    "\n",
    "#print(convex_scores)\n",
    "#print(bari_scores)"
   ]
  },
  {
   "cell_type": "code",
   "execution_count": 48,
   "metadata": {},
   "outputs": [
    {
     "name": "stdout",
     "output_type": "stream",
     "text": [
      "        QAP        OPT  Bary Init  Convex Init\n",
      "0    bur26a  5426670.0  5434876.0    5436235.0\n",
      "1    bur26b  3817852.0  3826996.0    3840024.0\n",
      "2    bur26c  5426795.0  5435115.0    5430322.0\n",
      "3    bur26d  3821225.0  3825612.0    3844135.0\n",
      "4    bur26e  5386879.0  5389477.0    5392579.0\n",
      "..      ...        ...        ...          ...\n",
      "116   tho30   149936.0   151682.0     153682.0\n",
      "117   tho40   240516.0   248068.0     243080.0\n",
      "118  tho150  8133398.0  8227848.0    8223472.0\n",
      "119   wil50    48816.0    49066.0      49632.0\n",
      "120  wil100   273038.0   273688.0     275878.0\n",
      "\n",
      "[121 rows x 4 columns]\n"
     ]
    }
   ],
   "source": [
    "import pandas as pd\n",
    "opt = [slnfile[i] for i in qapprob]\n",
    "mat = np.zeros((n_qap,3))\n",
    "mat[:,0] = opt\n",
    "mat[:,1] = bari_scores\n",
    "mat[:,2] = convex_scores\n",
    "#mat[:,1] = (bari_scores-opt)/opt\n",
    "#mat[:,2] = (convex_scores-opt)/opt\n",
    "#(bari_scores-opt)/opt\n",
    "df = pd.DataFrame(mat,columns=[\"OPT\",\"Bary Init\", \"Convex Init\"])\n",
    "df.insert(0,\"QAP\",qapprob,True)\n",
    "print(df)"
   ]
  },
  {
   "cell_type": "code",
   "execution_count": 49,
   "metadata": {},
   "outputs": [
    {
     "data": {
      "text/plain": [
       "array([[1.51216123e-03, 1.76259105e-03],\n",
       "       [2.39506403e-03, 5.80745403e-03],\n",
       "       [1.53313328e-03, 6.49923205e-04],\n",
       "       [1.14806116e-03, 5.99545957e-03],\n",
       "       [4.82282969e-04, 1.05812661e-03],\n",
       "       [5.66360413e-04, 3.20726041e-04],\n",
       "       [2.51849034e-03, 6.95945468e-03],\n",
       "       [2.81982876e-03, 8.21845481e-04],\n",
       "       [2.45917085e+00, 9.95812395e-01],\n",
       "       [7.45226853e-02, 5.37056046e-01],\n",
       "       [1.71746146e-01, 1.93079957e-01],\n",
       "       [6.57033145e-01, 1.39227971e+00],\n",
       "       [1.40425532e-01, 5.11389237e-01],\n",
       "       [7.76515152e-01, 1.06628788e+00],\n",
       "       [3.91241665e-01, 9.84321499e-01],\n",
       "       [1.73402868e-01, 3.89830508e-01],\n",
       "       [8.03832117e-01, 6.49635036e-01],\n",
       "       [6.29242820e-01, 7.46736292e-01],\n",
       "       [4.02630462e-01, 8.50091925e-01],\n",
       "       [4.18453541e-01, 3.08641975e-01],\n",
       "       [4.06845334e-01, 2.38295124e-01],\n",
       "       [5.27397260e-01, 8.11380400e-01],\n",
       "       [2.37309084e-01, 1.91252312e+00],\n",
       "       [7.94117647e-01, 0.00000000e+00],\n",
       "       [7.53424658e-02, 0.00000000e+00],\n",
       "       [7.50000000e-01, 0.00000000e+00],\n",
       "       [3.00000000e+00, 0.00000000e+00],\n",
       "       [7.14285714e-02, 1.42857143e-01],\n",
       "       [1.92307692e+00, 4.61538462e-01],\n",
       "       [3.27309237e-01, 0.00000000e+00],\n",
       "       [2.71428571e+00, 0.00000000e+00],\n",
       "       [3.25000000e+00, 5.00000000e-01],\n",
       "       [9.00000000e+00, 3.33333333e-01],\n",
       "       [0.00000000e+00, 1.25000000e-01],\n",
       "       [1.69491525e-02, 2.90556901e-02],\n",
       "       [0.00000000e+00, 0.00000000e+00],\n",
       "       [4.30107527e-03, 3.76344086e-03],\n",
       "       [1.34378499e-02, 1.38111236e-02],\n",
       "       [8.95694886e-03, 9.53481653e-03],\n",
       "       [7.12035996e-02, 4.97187852e-02],\n",
       "       [2.83307810e-02, 1.37825421e-02],\n",
       "       [4.73565804e-02, 5.46681665e-02],\n",
       "       [4.01846321e-02, 4.15422210e-02],\n",
       "       [0.00000000e+00, 1.99290885e-01],\n",
       "       [2.20822583e-02, 2.20063743e-02],\n",
       "       [0.00000000e+00, 1.81243644e-01],\n",
       "       [2.12442133e-02, 1.84856364e-02],\n",
       "       [0.00000000e+00, 1.79658862e-01],\n",
       "       [1.76670478e-02, 1.95030036e-02],\n",
       "       [0.00000000e+00, 1.78624310e-01],\n",
       "       [1.34772146e-02, 1.36171165e-02],\n",
       "       [0.00000000e+00, 1.90917550e-01],\n",
       "       [1.22058260e-02, 1.28656004e-02],\n",
       "       [0.00000000e+00, 1.99857490e-01],\n",
       "       [1.13311874e-02, 1.04346452e-02],\n",
       "       [9.93816377e-03, 1.09031417e-02],\n",
       "       [0.00000000e+00, 2.08574141e-01],\n",
       "       [2.76816609e-02, 2.07612457e-02],\n",
       "       [6.31163708e-02, 1.57790927e-02],\n",
       "       [1.24223602e-02, 7.45341615e-03],\n",
       "       [6.29032258e-02, 3.22580645e-03],\n",
       "       [5.77367206e-03, 1.50115473e-02],\n",
       "       [1.24352332e-02, 4.66321244e-02],\n",
       "       [1.16731518e-02, 1.55642023e-02],\n",
       "       [5.57834290e-02, 1.72272354e-02],\n",
       "       [2.39154616e-02, 1.55728587e-02],\n",
       "       [2.35091743e-02, 2.40825688e-02],\n",
       "       [1.01495726e-02, 4.80769231e-03],\n",
       "       [4.47076806e-02, 1.91058464e-02],\n",
       "       [4.33604336e-02, 3.32946187e-02],\n",
       "       [2.74330503e-02, 1.17570216e-02],\n",
       "       [7.81648042e-02, 9.27278285e-02],\n",
       "       [4.86942774e-02, 8.75243500e-02],\n",
       "       [2.53086743e-02, 4.46492319e-02],\n",
       "       [1.85800700e-01, 1.42948106e-01],\n",
       "       [1.93038717e-01, 1.86820493e-01],\n",
       "       [3.70989730e-02, 1.04916841e-01],\n",
       "       [8.60106248e-03, 1.49253731e-02],\n",
       "       [1.06901565e-02, 4.78919011e-03],\n",
       "       [1.39880434e-02, 1.52649602e-02],\n",
       "       [4.70122479e-03, 1.54645552e-02],\n",
       "       [5.67495774e-03, 1.01122917e-02],\n",
       "       [1.29013824e-02, 1.26156619e-02],\n",
       "       [1.40045355e-02, 1.18406703e-02],\n",
       "       [1.15393219e-02, 1.42498125e-02],\n",
       "       [1.33601923e-02, 7.06998505e-03],\n",
       "       [1.77192247e-02, 2.04109237e-02],\n",
       "       [1.34647270e-02, 1.62325507e-02],\n",
       "       [1.52463962e-02, 8.48809923e-03],\n",
       "       [7.51496283e-03, 1.35806114e-02],\n",
       "       [2.69745143e-01, 7.59525612e-02],\n",
       "       [5.28343474e-02, 9.26871956e-02],\n",
       "       [9.02609440e-02, 7.29716241e-02],\n",
       "       [2.64199159e-01, 1.94323314e-01],\n",
       "       [2.36003854e-02, 5.45884486e-02],\n",
       "       [5.07873349e-03, 3.61479825e-03],\n",
       "       [7.58867209e-02, 6.66514847e-02],\n",
       "       [4.64233626e-02, 6.49654149e-02],\n",
       "       [1.37539211e-01, 1.06898288e-01],\n",
       "       [4.47442549e-02, 6.05128609e-02],\n",
       "       [7.03194859e-02, 6.40277610e-02],\n",
       "       [3.40555709e-02, 3.38036659e-02],\n",
       "       [1.21974699e-01, 9.87463211e-02],\n",
       "       [1.60767828e-02, 3.48372958e-02],\n",
       "       [2.75781447e-02, 3.50242246e-02],\n",
       "       [4.81310151e-02, 1.05061625e-01],\n",
       "       [2.89831773e-02, 2.67587485e-02],\n",
       "       [3.90722500e-02, 4.86481282e-02],\n",
       "       [2.43276331e-02, 2.69171555e-02],\n",
       "       [6.43679415e-02, 3.61681742e-02],\n",
       "       [5.02713467e-02, 3.29064490e-02],\n",
       "       [2.95343778e-02, 2.83285271e-02],\n",
       "       [2.50776322e-02, 2.35206650e-02],\n",
       "       [5.38066904e-02, 6.28402704e-02],\n",
       "       [2.76259746e-02, 3.07854988e-02],\n",
       "       [2.07838846e-02, 2.13145453e-02],\n",
       "       [1.16449685e-02, 2.49839932e-02],\n",
       "       [3.13991585e-02, 1.06604134e-02],\n",
       "       [1.16126126e-02, 1.10745841e-02],\n",
       "       [5.12127171e-03, 1.67158309e-02],\n",
       "       [2.38062101e-03, 1.04014826e-02]])"
      ]
     },
     "execution_count": 49,
     "metadata": {},
     "output_type": "execute_result"
    }
   ],
   "source": [
    "mat = np.zeros((n_qap,2))\n",
    "mat[:,0] = (bari_scores-opt)/opt\n",
    "mat[:,1] = (convex_scores-opt)/opt\n",
    "mat"
   ]
  },
  {
   "cell_type": "code",
   "execution_count": 50,
   "metadata": {},
   "outputs": [
    {
     "data": {
      "text/plain": [
       "Text(0, 0.5, 'Percent Diff from the Optimum')"
      ]
     },
     "execution_count": 50,
     "metadata": {},
     "output_type": "execute_result"
    },
    {
     "data": {
      "image/png": "[encoded data removed]",
      "text/plain": [
       "<Figure size 432x288 with 1 Axes>"
      ]
     },
     "metadata": {
      "needs_background": "light"
     },
     "output_type": "display_data"
    }
   ],
   "source": [
    "mat = np.zeros((n_qap,2))\n",
    "mat[:,0] = (bari_scores-opt)/opt\n",
    "mat[:,1] = (convex_scores-opt)/opt\n",
    "fig, ax = plt.subplots()\n",
    "ax.set_title('Performance on QAPLIB library with different Inits')\n",
    "ax.boxplot(mat, showfliers=False, labels = ['barycenter', 'convex'], showmeans=True)\n",
    "ylabel('Percent Diff from the Optimum')"
   ]
  },
  {
   "cell_type": "code",
   "execution_count": 51,
   "metadata": {},
   "outputs": [
    {
     "data": {
      "text/plain": [
       "Text(0, 0.5, 'Percent Diff from the Optimum')"
      ]
     },
     "execution_count": 51,
     "metadata": {},
     "output_type": "execute_result"
    },
    {
     "data": {
      "image/png": "[encoded data removed]",
      "text/plain": [
       "<Figure size 432x288 with 1 Axes>"
      ]
     },
     "metadata": {
      "needs_background": "light"
     },
     "output_type": "display_data"
    }
   ],
   "source": [
    "plt.plot(['bary','convex'],mat.T, marker='o')\n",
    "xlabel('Init Type')\n",
    "ylabel('Percent Diff from the Optimum')\n",
    "\n",
    "#legend(qapprob, bbox_to_anchor=(1.05, 1), loc=\"upper left\", borderaxespad=0.0)"
   ]
  },
  {
   "cell_type": "code",
   "execution_count": 46,
   "metadata": {},
   "outputs": [
    {
     "data": {
      "text/plain": [
       "'esc32e'"
      ]
     },
     "execution_count": 46,
     "metadata": {},
     "output_type": "execute_result"
    }
   ],
   "source": [
    "qapprob[32]\n"
   ]
  },
  {
   "cell_type": "code",
   "execution_count": 44,
   "metadata": {},
   "outputs": [
    {
     "data": {
      "text/plain": [
       "array([[2.16265223e-03, 2.97770087e-03],\n",
       "       [2.90241738e-03, 4.13950043e-03],\n",
       "       [2.24054898e-03, 1.25724300e-02],\n",
       "       [1.00281978e-03, 2.61670014e-03],\n",
       "       [9.85914107e-04, 1.18380235e-03],\n",
       "       [6.88252173e-04, 4.09117398e-03],\n",
       "       [2.40185696e-03, 8.34027533e-04],\n",
       "       [3.07832833e-03, 5.98704713e-04],\n",
       "       [2.45917085e+00, 5.39363484e-01],\n",
       "       [7.45226853e-02, 2.05296654e-02],\n",
       "       [1.71746146e-01, 1.12029401e+00],\n",
       "       [6.57033145e-01, 9.04607922e-01],\n",
       "       [1.40425532e-01, 2.75344180e-02],\n",
       "       [1.02083333e+00, 5.05050505e-01],\n",
       "       [3.91241665e-01, 5.83888989e-01],\n",
       "       [5.24119948e-01, 1.72099087e-01],\n",
       "       [4.44343066e-01, 3.54014599e-01],\n",
       "       [3.95126197e-01, 2.55874674e-01],\n",
       "       [4.02630462e-01, 1.08145948e+00],\n",
       "       [4.33073424e-01, 2.69980507e-01],\n",
       "       [3.97158541e-01, 5.34388118e-01],\n",
       "       [6.59641728e-01, 6.09062171e-01],\n",
       "       [2.37309084e-01, 1.15487515e+00],\n",
       "       [5.88235294e-02, 2.94117647e-02],\n",
       "       [8.21917808e-02, 6.84931507e-03],\n",
       "       [5.37500000e-01, 5.00000000e-02],\n",
       "       [2.12500000e+00, 0.00000000e+00],\n",
       "       [0.00000000e+00, 7.14285714e-02],\n",
       "       [1.76923077e+00, 1.53846154e-01],\n",
       "       [5.24096386e-01, 0.00000000e+00],\n",
       "       [2.71428571e+00, 0.00000000e+00],\n",
       "       [0.00000000e+00, 0.00000000e+00],\n",
       "       [2.80000000e+01, 9.00000000e+00],\n",
       "       [0.00000000e+00, 0.00000000e+00],\n",
       "       [1.56250000e-01, 0.00000000e+00],\n",
       "       [1.69491525e-02, 8.47457627e-03],\n",
       "       [7.34214391e-04, 2.93685756e-03],\n",
       "       [4.30107527e-03, 4.30107527e-03],\n",
       "       [5.97237775e-03, 2.98618888e-03],\n",
       "       [9.53481653e-03, 1.12684195e-02],\n",
       "       [5.86051744e-02, 5.26434196e-02],\n",
       "       [2.92058630e-02, 3.65346751e-02],\n",
       "       [7.71653543e-02, 1.93475816e-02],\n",
       "       [2.87808851e-02, 2.06353516e-02],\n",
       "       [1.55155858e-01, 0.00000000e+00],\n",
       "       [2.49658522e-02, 2.82288663e-02],\n",
       "       [0.00000000e+00, 1.55917742e-01],\n",
       "       [2.09905511e-02, 1.96271165e-02],\n",
       "       [0.00000000e+00, 1.83303573e-01],\n",
       "       [1.43494436e-02, 1.63786578e-02],\n",
       "       [0.00000000e+00, 1.78045088e-01],\n",
       "       [1.43259527e-02, 1.42793188e-02],\n",
       "       [0.00000000e+00, 1.95629599e-01],\n",
       "       [1.27713469e-02, 1.27124385e-02],\n",
       "       [0.00000000e+00, 1.99007864e-01],\n",
       "       [1.10823673e-02, 1.09243863e-02],\n",
       "       [9.73574023e-03, 1.03069628e-02],\n",
       "       [0.00000000e+00, 2.11855290e-01],\n",
       "       [2.76816609e-02, 3.46020761e-02],\n",
       "       [6.90335306e-02, 0.00000000e+00],\n",
       "       [4.59627329e-02, 4.09937888e-02],\n",
       "       [4.19354839e-02, 5.00000000e-02],\n",
       "       [5.77367206e-03, 2.65588915e-02],\n",
       "       [8.29015544e-03, 1.13989637e-02],\n",
       "       [4.35797665e-02, 1.01167315e-02],\n",
       "       [2.70713700e-02, 5.08613618e-02],\n",
       "       [5.72858732e-02, 2.22469410e-02],\n",
       "       [3.61238532e-02, 2.06422018e-02],\n",
       "       [1.92307692e-02, 2.61752137e-02],\n",
       "       [1.33740925e-02, 2.21627818e-02],\n",
       "       [3.48432056e-02, 2.05187766e-02],\n",
       "       [2.02482038e-02, 2.97191378e-02],\n",
       "       [7.59654903e-02, 3.60636527e-02],\n",
       "       [4.86942774e-02, 8.71291042e-02],\n",
       "       [2.53086743e-02, 5.20645825e-02],\n",
       "       [2.97612225e-01, 6.89589303e-02],\n",
       "       [1.01407900e-01, 9.01838092e-02],\n",
       "       [9.55739344e-02, 1.60628919e-01],\n",
       "       [4.04755882e-03, 2.08702251e-02],\n",
       "       [2.00119730e-02, 6.15753015e-03],\n",
       "       [2.60607116e-02, 1.91537524e-02],\n",
       "       [8.04156872e-03, 2.44133779e-02],\n",
       "       [5.55421396e-03, 3.83361507e-03],\n",
       "       [1.33629311e-02, 9.73647772e-03],\n",
       "       [7.94571295e-03, 3.84302456e-03],\n",
       "       [1.14077446e-02, 7.80252891e-03],\n",
       "       [1.43219183e-02, 5.51042953e-03],\n",
       "       [5.84328631e-03, 1.11049492e-02],\n",
       "       [9.97486228e-03, 1.28496550e-02],\n",
       "       [1.26718069e-02, 5.56486758e-03],\n",
       "       [1.46675971e-02, 1.85592743e-02],\n",
       "       [2.12969972e-01, 2.92707545e-02],\n",
       "       [5.20607202e-02, 6.88484557e-02],\n",
       "       [9.02609440e-02, 7.47183802e-02],\n",
       "       [2.64199159e-01, 2.78510602e-03],\n",
       "       [2.36003854e-02, 3.08180540e-02],\n",
       "       [7.91235158e-03, 8.87759337e-03],\n",
       "       [7.58867209e-02, 5.50088245e-02],\n",
       "       [4.64233626e-02, 5.31669609e-02],\n",
       "       [1.37539211e-01, 1.37123076e-02],\n",
       "       [4.47442549e-02, 5.25368899e-02],\n",
       "       [7.03194859e-02, 9.53813024e-02],\n",
       "       [4.19427263e-02, 4.07481027e-02],\n",
       "       [1.21974699e-01, 7.64139041e-02],\n",
       "       [3.79851049e-02, 4.34590888e-02],\n",
       "       [2.81081873e-02, 3.50070237e-02],\n",
       "       [1.01971426e-01, 9.24861237e-02],\n",
       "       [2.89831773e-02, 3.98526280e-02],\n",
       "       [3.90722500e-02, 7.47878919e-02],\n",
       "       [2.38055654e-02, 3.37720349e-02],\n",
       "       [6.24472524e-02, 5.20235660e-02],\n",
       "       [5.11927187e-02, 4.35340164e-02],\n",
       "       [2.95343778e-02, 2.62638097e-02],\n",
       "       [2.68513912e-02, 2.33756938e-02],\n",
       "       [5.38066904e-02, 4.95943378e-02],\n",
       "       [3.09895932e-02, 2.46702782e-02],\n",
       "       [2.22921076e-01, 1.49133273e-02],\n",
       "       [2.28630883e-02, 2.37034468e-02],\n",
       "       [2.51542517e-02, 2.65013554e-02],\n",
       "       [1.19453149e-02, 1.48838161e-02],\n",
       "       [9.42313995e-03, 1.15126188e-02],\n",
       "       [8.45303584e-03, 5.05424153e-03]])"
      ]
     },
     "execution_count": 44,
     "metadata": {},
     "output_type": "execute_result"
    }
   ],
   "source": [
    "mat"
   ]
  },
  {
   "cell_type": "code",
   "execution_count": 164,
   "metadata": {},
   "outputs": [
    {
     "data": {
      "text/plain": [
       "(array([  0,   0,   0, ..., 127, 127, 127]),\n",
       " array([  3,   5,   6, ..., 121, 122, 124]))"
      ]
     },
     "execution_count": 164,
     "metadata": {},
     "output_type": "execute_result"
    }
   ],
   "source": [
    "A = datafile['esc128'][1]\n",
    "np.nonzero(A)"
   ]
  },
  {
   "cell_type": "code",
   "execution_count": 159,
   "metadata": {},
   "outputs": [
    {
     "data": {
      "text/plain": [
       "array([[0, 0, 0, ..., 5, 5, 6],\n",
       "       [0, 0, 1, ..., 4, 6, 5],\n",
       "       [0, 1, 0, ..., 6, 4, 5],\n",
       "       ...,\n",
       "       [5, 4, 6, ..., 0, 1, 0],\n",
       "       [5, 6, 4, ..., 1, 0, 0],\n",
       "       [6, 5, 5, ..., 0, 0, 0]])"
      ]
     },
     "execution_count": 159,
     "metadata": {},
     "output_type": "execute_result"
    }
   ],
   "source": [
    "A"
   ]
  },
  {
   "cell_type": "code",
   "execution_count": 166,
   "metadata": {},
   "outputs": [
    {
     "name": "stdout",
     "output_type": "stream",
     "text": [
      "the run time is:  0.0045697689056396484\n"
     ]
    },
    {
     "data": {
      "text/plain": [
       "0"
      ]
     },
     "execution_count": 166,
     "metadata": {},
     "output_type": "execute_result"
    }
   ],
   "source": [
    "import time\n",
    "start = time.time()\n",
    "row,col = linear_sum_assignment(A, maximize=False)\n",
    "end = time.time()\n",
    "print('the run time is: ',str(end-start))\n",
    "A[row,col].sum()"
   ]
  },
  {
   "cell_type": "code",
   "execution_count": 101,
   "metadata": {},
   "outputs": [
    {
     "data": {
      "text/plain": [
       "(array([ 0,  1,  2,  3,  4,  5,  6,  7,  8,  9, 10, 11]),\n",
       " array([ 1,  0,  4,  5,  2,  3,  6,  9, 10,  7,  8, 11]))"
      ]
     },
     "execution_count": 101,
     "metadata": {},
     "output_type": "execute_result"
    }
   ],
   "source": [
    "linear_sum_assignment(A, maximize =True)"
   ]
  },
  {
   "cell_type": "code",
   "execution_count": 121,
   "metadata": {},
   "outputs": [],
   "source": [
    "def doubly_stochastic(P, eps=1e-3):\n",
    "    max_iter = 1000\n",
    "    c = 1 / P.sum(axis=0)\n",
    "    r = 1 / (P @ c)\n",
    "    P_eps = P\n",
    "\n",
    "    for it in range(max_iter):\n",
    "        if ((np.abs(P_eps.sum(axis=1) - 1) < eps).all() and\n",
    "                (np.abs(P_eps.sum(axis=0) - 1) < eps).all()):\n",
    "            # All column/row sums ~= 1 within threshold\n",
    "            reason = f\"Threshold satisfied within {it+1} iterations\"\n",
    "            break\n",
    "\n",
    "        c = 1 / (r @ P)\n",
    "        r = 1 / (P @ c)\n",
    "        P_eps = r[:, None] * P * c\n",
    "    else:\n",
    "        reason = \"Max iter reached\"\n",
    "\n",
    "    return P_eps"
   ]
  },
  {
   "cell_type": "code",
   "execution_count": 138,
   "metadata": {},
   "outputs": [],
   "source": [
    "def perturb(init_weight = 0.5, n_init = 30):\n",
    "    qapprob = [\"bur26a\", \"bur26b\", \"bur26c\", \"bur26d\", \"bur26e\", \"bur26f\",\n",
    "                  \"bur26g\", \"bur26h\", \"chr12a\", \"chr12b\", \"chr12c\", \"chr15a\",\n",
    "                  \"chr15b\", \"chr15c\", \"chr18a\", \"chr18b\", \"chr20a\", \"chr20b\",\n",
    "                  \"chr20c\", \"chr22a\", \"chr22b\", \"chr25a\",\n",
    "                  \"els19\",\n",
    "                  \"esc16a\", \"esc16b\", \"esc16c\", \"esc16d\", \"esc16e\", \"esc16g\",\n",
    "                  \"esc16h\", \"esc16i\", \"esc16j\", \"esc32g\", \"esc128\",\n",
    "                  \"had12\", \"had14\", \"had16\", \"had18\", \"had20\", \"kra30a\",\n",
    "                  \"kra30b\", \"kra32\",\n",
    "                  \"lipa20a\", \"lipa20b\", \"lipa30a\", \"lipa30b\", \"lipa40a\", \"lipa40b\",\n",
    "                  \"lipa50a\", \"lipa50b\", \"lipa60a\", \"lipa60b\", \"lipa70a\", \"lipa70b\",\n",
    "                  \"lipa80a\", \"lipa90a\", \"lipa90b\",\n",
    "                  \"nug12\", \"nug14\", \"nug16a\", \"nug16b\", \"nug17\", \"nug18\", \"nug20\",\n",
    "                  \"nug21\", \"nug22\", \"nug24\", \"nug25\", \"nug27\", \"nug28\", \"nug30\",\n",
    "                  \"rou12\", \"rou15\", \"rou20\",\n",
    "                  \"scr12\", \"scr15\", \"scr20\",\n",
    "                  \"sko42\", \"sko49\", \"sko56\", \"sko64\", \"sko72\", \"sko81\", \"sko90\",\n",
    "                  \"sko100a\", \"sko100b\", \"sko100c\", \"sko100d\", \"sko100e\", \"sko100f\",\n",
    "                  \"ste36b\", \"ste36c\",\n",
    "                  \"tai12a\", \"tai12b\", \"tai15a\", \"tai15b\", \"tai17a\", \"tai20a\",\n",
    "                  \"tai20b\", \"tai25a\", \"tai25b\", \"tai30a\", \"tai30b\", \"tai35a\",\n",
    "                  \"tai40a\", \"tai40b\", \"tai50a\", \"tai50b\", \"tai60a\", \"tai60b\",\n",
    "                  \"tai64c\", \"tai80a\", \"tai100a\", \"tai100b\", \"tai150b\", \"tai256c\",\n",
    "                  \"tho30\", \"tho40\", \"tho150\", \"wil50\", \"wil100\"]\n",
    "    qapprob = [\"chr12c\",\"chr15a\",\"chr15c\",\"chr20b\",\"chr22b\",\"esc16b\",\n",
    "              \"rou12\",\"rou15\",\"rou20\",\"tai12a\",\"tai15a\",\"tai17a\",\"tai20a\",\n",
    "              \"tai30a\",\"tai35a\",\"tai40a\"]\n",
    "    slnfile = np.load(\"qap_sols.npz\",allow_pickle=True)\n",
    "    datafile = np.load(\"qap_probs.npz\",allow_pickle=True)\n",
    "    n_qap = len(qapprob)\n",
    "    convex_scores = np.zeros(n_qap)\n",
    "    bari_scores = np.zeros(n_qap)\n",
    "    n_init = 30\n",
    "    init_weight = 0.5\n",
    "    for i in range(n_qap):\n",
    "        c_min = [0]*n_init\n",
    "        b_min = [0]*n_init\n",
    "        for k in range(n_init):\n",
    "            A = datafile[qapprob[i]][0]\n",
    "            B = datafile[qapprob[i]][1]\n",
    "            n = A.shape[0]\n",
    "            K = doubly_stochastic(np.random.rand(n,n))\n",
    "            cj = init_weight*convex_approx(A,B) + (1-init_weight)*K\n",
    "            res = quadratic_assignment(A,B, init = cj)\n",
    "            c_min[k] = res['score']\n",
    "\n",
    "            res = quadratic_assignment(A,B, init = 'rand')\n",
    "            b_min[k] = res['score']\n",
    "\n",
    "\n",
    "        convex_scores[i] = min(c_min)\n",
    "        bari_scores[i] = min(b_min)\n",
    "    return bari_scores, convex_scores\n",
    "#print(convex_scores)\n",
    "#print(bari_scores)"
   ]
  },
  {
   "cell_type": "code",
   "execution_count": 148,
   "metadata": {},
   "outputs": [
    {
     "data": {
      "text/plain": [
       "Text(0, 0.5, 'Percent Diff from the Optimum')"
      ]
     },
     "execution_count": 148,
     "metadata": {},
     "output_type": "execute_result"
    },
    {
     "data": {
      "image/png": "[encoded data removed]",
      "text/plain": [
       "<Figure size 432x288 with 1 Axes>"
      ]
     },
     "metadata": {
      "needs_background": "light"
     },
     "output_type": "display_data"
    }
   ],
   "source": [
    "import pandas as pd\n",
    "opt = [slnfile[i] for i in qapprob]\n",
    "mat = np.zeros((n_qap,2))\n",
    "mat[:,0] = (bari_scores-opt)/opt\n",
    "mat[:,1] = (convex_scores-opt)/opt\n",
    "fig, ax = plt.subplots()\n",
    "ax.set_title('Performance on QAPLIB library with different Inits')\n",
    "ax.boxplot(mat, showfliers=False, labels = ['barycenter', 'convex'], showmeans=True)\n",
    "ylabel('Percent Diff from the Optimum')"
   ]
  },
  {
   "cell_type": "code",
   "execution_count": 149,
   "metadata": {},
   "outputs": [
    {
     "data": {
      "text/plain": [
       "Text(0.5, 1.0, 'Init-weight = 0.5')"
      ]
     },
     "execution_count": 149,
     "metadata": {},
     "output_type": "execute_result"
    },
    {
     "data": {
      "image/png": "[encoded data removed]",
      "text/plain": [
       "<Figure size 432x288 with 1 Axes>"
      ]
     },
     "metadata": {
      "needs_background": "light"
     },
     "output_type": "display_data"
    }
   ],
   "source": [
    "plt.plot(['bary','convex'],mat.T, marker='o', linewidth=.7)\n",
    "xlabel('Init Type')\n",
    "ylabel('Percent Diff from the Optimum')\n",
    "title('Init-weight = 0.5')\n",
    "#legend"
   ]
  },
  {
   "cell_type": "code",
   "execution_count": 150,
   "metadata": {},
   "outputs": [],
   "source": [
    "b_25, c_25 = perturb(init_weight = 0.25)\n"
   ]
  },
  {
   "cell_type": "code",
   "execution_count": 153,
   "metadata": {},
   "outputs": [
    {
     "data": {
      "text/plain": [
       "Text(0, 0.5, 'Percent Diff from the Optimum')"
      ]
     },
     "execution_count": 153,
     "metadata": {},
     "output_type": "execute_result"
    },
    {
     "data": {
      "image/png": "[encoded data removed]",
      "text/plain": [
       "<Figure size 432x288 with 1 Axes>"
      ]
     },
     "metadata": {
      "needs_background": "light"
     },
     "output_type": "display_data"
    }
   ],
   "source": [
    "import pandas as pd\n",
    "opt = [slnfile[i] for i in qapprob]\n",
    "mat25 = np.zeros((n_qap,2))\n",
    "mat25[:,0] = (b_25-opt)/opt\n",
    "mat25[:,1] = (c_25-opt)/opt\n",
    "fig, ax = plt.subplots()\n",
    "ax.set_title('Performance on QAPLIB library with different Inits')\n",
    "ax.boxplot(mat, showfliers=False, labels = ['barycenter', 'convex'], showmeans=True)\n",
    "ylabel('Percent Diff from the Optimum')"
   ]
  },
  {
   "cell_type": "code",
   "execution_count": 154,
   "metadata": {},
   "outputs": [
    {
     "data": {
      "text/plain": [
       "Text(0.5, 1.0, 'Init-weight = 0.25')"
      ]
     },
     "execution_count": 154,
     "metadata": {},
     "output_type": "execute_result"
    },
    {
     "data": {
      "image/png": "[encoded data removed]",
      "text/plain": [
       "<Figure size 432x288 with 1 Axes>"
      ]
     },
     "metadata": {
      "needs_background": "light"
     },
     "output_type": "display_data"
    }
   ],
   "source": [
    "plt.plot(['bary','convex'],mat25.T, marker='o', linewidth=.7)\n",
    "xlabel('Init Type')\n",
    "ylabel('Percent Diff from the Optimum')\n",
    "title('Init-weight = 0.25')\n"
   ]
  },
  {
   "cell_type": "code",
   "execution_count": 155,
   "metadata": {},
   "outputs": [],
   "source": [
    "b_75, c_75 = perturb(init_weight = 0.75)"
   ]
  },
  {
   "cell_type": "code",
   "execution_count": 156,
   "metadata": {},
   "outputs": [
    {
     "data": {
      "text/plain": [
       "Text(0, 0.5, 'Percent Diff from the Optimum')"
      ]
     },
     "execution_count": 156,
     "metadata": {},
     "output_type": "execute_result"
    },
    {
     "data": {
      "image/png": "[encoded data removed]",
      "text/plain": [
       "<Figure size 432x288 with 1 Axes>"
      ]
     },
     "metadata": {
      "needs_background": "light"
     },
     "output_type": "display_data"
    }
   ],
   "source": [
    "\n",
    "opt = [slnfile[i] for i in qapprob]\n",
    "mat75 = np.zeros((n_qap,2))\n",
    "mat75[:,0] = (b_75-opt)/opt\n",
    "mat75[:,1] = (c_75-opt)/opt\n",
    "fig, ax = plt.subplots()\n",
    "ax.set_title('Performance on QAPLIB library with different Inits')\n",
    "ax.boxplot(mat, showfliers=False, labels = ['barycenter', 'convex'], showmeans=True)\n",
    "ylabel('Percent Diff from the Optimum')"
   ]
  },
  {
   "cell_type": "code",
   "execution_count": 157,
   "metadata": {},
   "outputs": [
    {
     "data": {
      "text/plain": [
       "Text(0.5, 1.0, 'Init-weight = 0.75')"
      ]
     },
     "execution_count": 157,
     "metadata": {},
     "output_type": "execute_result"
    },
    {
     "data": {
      "image/png": "[encoded data removed]",
      "text/plain": [
       "<Figure size 432x288 with 1 Axes>"
      ]
     },
     "metadata": {
      "needs_background": "light"
     },
     "output_type": "display_data"
    }
   ],
   "source": [
    "plt.plot(['bary','convex'],mat75.T, marker='o', linewidth=.7)\n",
    "xlabel('Init Type')\n",
    "ylabel('Percent Diff from the Optimum')\n",
    "title('Init-weight = 0.75')"
   ]
  },
  {
   "cell_type": "code",
   "execution_count": null,
   "metadata": {},
   "outputs": [],
   "source": []
  }
 ],
 "metadata": {
  "kernelspec": {
   "display_name": "Python 3",
   "language": "python",
   "name": "python3"
  },
  "language_info": {
   "codemirror_mode": {
    "name": "ipython",
    "version": 3
   },
   "file_extension": ".py",
   "mimetype": "text/x-python",
   "name": "python",
   "nbconvert_exporter": "python",
   "pygments_lexer": "ipython3",
   "version": "3.7.3"
  }
 },
 "nbformat": 4,
 "nbformat_minor": 4
}
